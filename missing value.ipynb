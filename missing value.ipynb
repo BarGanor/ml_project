{
 "cells": [
  {
   "cell_type": "code",
   "execution_count": 1,
   "metadata": {
    "pycharm": {
     "name": "#%%\n"
    }
   },
   "outputs": [
    {
     "name": "stdout",
     "output_type": "stream",
     "text": [
      "       enrollee_id      city  city_development_index gender      relevent_experience enrolled_university education_level major_discipline experience company_size         company_type last_new_job  training_hours  target\n",
      "0            13163   city_16                   0.910    NaN   No relevent experience       no_enrollment     High School              NaN          2          NaN                  NaN        never              16       1\n",
      "1             9357  city_136                   0.897   Male  Has relevent experience       no_enrollment         Masters             STEM          6    1000-4999              Pvt Ltd            1             262       0\n",
      "2              604   city_16                   0.910   Male   No relevent experience                 NaN             NaN              NaN          3          NaN                  NaN        never              24       0\n",
      "3            19033   city_16                   0.910   Male   No relevent experience       no_enrollment     High School              NaN          3          NaN                  NaN            1              35       0\n",
      "4             4825  city_145                   0.555   Male  Has relevent experience    Full time course        Graduate             STEM          4          NaN                  NaN            1              43       1\n",
      "...            ...       ...                     ...    ...                      ...                 ...             ...              ...        ...          ...                  ...          ...             ...     ...\n",
      "15321         5471  city_103                   0.920    NaN   No relevent experience       no_enrollment        Graduate             STEM        >20          NaN                  NaN           >4              25       1\n",
      "15322         4815   city_57                   0.866   Male   No relevent experience    Full time course     High School              NaN          4          NaN                  NaN        never             122       0\n",
      "15323        25935   city_36                   0.893   Male  Has relevent experience       no_enrollment         Masters             STEM         10       Oct-49  Early Stage Startup            2              57       1\n",
      "15324         6525   city_21                   0.624    NaN   No relevent experience    Full time course        Graduate             STEM          5          NaN                  NaN        never              16       0\n",
      "15325         3366   city_57                   0.866   Male  Has relevent experience       no_enrollment         Masters             STEM        >20      100-500              Pvt Ltd           >4              50       0\n",
      "\n",
      "[15326 rows x 14 columns]\n"
     ]
    }
   ],
   "source": [
    "import pandas as pd\n",
    "import matplotlib.pyplot as plt\n",
    "import seaborn as sns\n",
    "import numpy as np\n",
    "path='XY_train (2).csv'\n",
    "\n",
    "data=pd.read_csv(path)\n",
    "pd.set_option('display.max_rows', 500)\n",
    "pd.set_option('display.max_columns', 500)\n",
    "pd.set_option('display.width', 1000)\n",
    "print(data)\n"
   ]
  },
  {
   "cell_type": "code",
   "execution_count": 2,
   "metadata": {},
   "outputs": [
    {
     "name": "stdout",
     "output_type": "stream",
     "text": [
      "(15326, 14)\n"
     ]
    }
   ],
   "source": [
    "print(data.drop_duplicates().shape)"
   ]
  },
  {
   "cell_type": "code",
   "execution_count": null,
   "metadata": {},
   "outputs": [],
   "source": [
    "data.isna().sum()"
   ]
  },
  {
   "cell_type": "code",
   "execution_count": null,
   "metadata": {},
   "outputs": [],
   "source": [
    "# Transform experience to floats and fill nan with the median.\n",
    "replacement_dct = {'>20':'25','<1':'0'}\n",
    "data['experience'] =data['experience'].replace(replacement_dct).astype('float64')\n",
    "# Calculate median\n",
    "exp_median = np.median(data['experience'].dropna().values)\n",
    "\n",
    "# Change nan values to calculated median\n",
    "data['experience'] = data['experience'].fillna(exp_median)"
   ]
  },
  {
   "cell_type": "code",
   "execution_count": null,
   "metadata": {},
   "outputs": [],
   "source": [
    "\n",
    "\n",
    "processed_data = processed_data.dropna(thresh=12, axis=0)"
   ]
  },
  {
   "cell_type": "code",
   "execution_count": null,
   "metadata": {},
   "outputs": [],
   "source": [
    "processed_data.isna().sum()\n"
   ]
  },
  {
   "cell_type": "code",
   "execution_count": null,
   "metadata": {},
   "outputs": [],
   "source": []
  }
 ],
 "metadata": {
  "kernelspec": {
   "display_name": "Python 3 (ipykernel)",
   "language": "python",
   "name": "python3"
  },
  "language_info": {
   "codemirror_mode": {
    "name": "ipython",
    "version": 3
   },
   "file_extension": ".py",
   "mimetype": "text/x-python",
   "name": "python",
   "nbconvert_exporter": "python",
   "pygments_lexer": "ipython3",
   "version": "3.9.6"
  }
 },
 "nbformat": 4,
 "nbformat_minor": 1
}