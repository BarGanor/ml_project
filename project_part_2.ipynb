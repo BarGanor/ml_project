{
 "cells": [
  {
   "cell_type": "code",
   "execution_count": 1,
   "metadata": {
    "pycharm": {
     "is_executing": true
    }
   },
   "outputs": [],
   "source": [
    "from helper_functions.get_processed_data import *\n",
    "from model_training_functions.kfold_cross_validation import *\n",
    "import pandas as pd\n",
    "path = 'XY_train (2).csv'\n",
    "\n",
    "data = pd.read_csv(path)"
   ]
  },
  {
   "cell_type": "code",
   "execution_count": 2,
   "metadata": {
    "pycharm": {
     "name": "#%%\n"
    }
   },
   "outputs": [],
   "source": [
    "%%capture \n",
    "data = get_processed_data(data)"
   ]
  },
  {
   "cell_type": "code",
   "execution_count": 3,
   "metadata": {
    "pycharm": {
     "name": "#%%\n"
    }
   },
   "outputs": [
    {
     "data": {
      "text/html": [
       "<div>\n",
       "<style scoped>\n",
       "    .dataframe tbody tr th:only-of-type {\n",
       "        vertical-align: middle;\n",
       "    }\n",
       "\n",
       "    .dataframe tbody tr th {\n",
       "        vertical-align: top;\n",
       "    }\n",
       "\n",
       "    .dataframe thead th {\n",
       "        text-align: right;\n",
       "    }\n",
       "</style>\n",
       "<table border=\"1\" class=\"dataframe\">\n",
       "  <thead>\n",
       "    <tr style=\"text-align: right;\">\n",
       "      <th></th>\n",
       "      <th>enrollment</th>\n",
       "      <th>target</th>\n",
       "      <th>PC-1</th>\n",
       "      <th>PC-2</th>\n",
       "      <th>PC-3</th>\n",
       "    </tr>\n",
       "  </thead>\n",
       "  <tbody>\n",
       "    <tr>\n",
       "      <th>1</th>\n",
       "      <td>1</td>\n",
       "      <td>0</td>\n",
       "      <td>-0.186656</td>\n",
       "      <td>0.588037</td>\n",
       "      <td>-0.088204</td>\n",
       "    </tr>\n",
       "    <tr>\n",
       "      <th>4</th>\n",
       "      <td>0</td>\n",
       "      <td>1</td>\n",
       "      <td>-0.433859</td>\n",
       "      <td>-0.065957</td>\n",
       "      <td>0.230554</td>\n",
       "    </tr>\n",
       "    <tr>\n",
       "      <th>5</th>\n",
       "      <td>1</td>\n",
       "      <td>0</td>\n",
       "      <td>0.644155</td>\n",
       "      <td>-0.142234</td>\n",
       "      <td>0.014094</td>\n",
       "    </tr>\n",
       "    <tr>\n",
       "      <th>6</th>\n",
       "      <td>1</td>\n",
       "      <td>0</td>\n",
       "      <td>-0.217829</td>\n",
       "      <td>-0.107766</td>\n",
       "      <td>-0.113287</td>\n",
       "    </tr>\n",
       "    <tr>\n",
       "      <th>7</th>\n",
       "      <td>1</td>\n",
       "      <td>1</td>\n",
       "      <td>0.095461</td>\n",
       "      <td>0.169697</td>\n",
       "      <td>0.147194</td>\n",
       "    </tr>\n",
       "  </tbody>\n",
       "</table>\n",
       "</div>"
      ],
      "text/plain": [
       "   enrollment  target      PC-1      PC-2      PC-3\n",
       "1           1       0 -0.186656  0.588037 -0.088204\n",
       "4           0       1 -0.433859 -0.065957  0.230554\n",
       "5           1       0  0.644155 -0.142234  0.014094\n",
       "6           1       0 -0.217829 -0.107766 -0.113287\n",
       "7           1       1  0.095461  0.169697  0.147194"
      ]
     },
     "execution_count": 3,
     "metadata": {},
     "output_type": "execute_result"
    }
   ],
   "source": [
    "data.head()"
   ]
  },
  {
   "cell_type": "code",
   "execution_count": 4,
   "metadata": {},
   "outputs": [
    {
     "name": "stdout",
     "output_type": "stream",
     "text": [
      "\n",
      "\n",
      "Training accuracy score: 0.997 +/- 0.000\n",
      " Validation accuracy score 0.593 +/- 0.015\n"
     ]
    },
    {
     "data": {
      "text/plain": [
       "Training Score      0.997349\n",
       "Validation Score    0.593048\n",
       "dtype: float64"
      ]
     },
     "execution_count": 4,
     "metadata": {},
     "output_type": "execute_result"
    }
   ],
   "source": [
    "from sklearn.datasets import load_iris\n",
    "from sklearn.model_selection import cross_val_score\n",
    "from sklearn.tree import DecisionTreeClassifier\n",
    "\n",
    "clf = DecisionTreeClassifier(random_state=0)\n",
    "train_model_by_kfold(data, clf)"
   ]
  },
  {
   "cell_type": "code",
   "execution_count": 5,
   "metadata": {},
   "outputs": [],
   "source": [
    "##SVM"
   ]
  },
  {
   "cell_type": "code",
   "execution_count": 9,
   "metadata": {
    "pycharm": {
     "name": "#%%\n"
    }
   },
   "outputs": [
    {
     "name": "stdout",
     "output_type": "stream",
     "text": [
      "\n",
      "\n",
      "Training accuracy score: 0.686 +/- 0.019\n",
      " Validation accuracy score 0.685 +/- 0.031\n",
      "\n",
      "\n",
      "Training accuracy score: 0.665 +/- 0.053\n",
      " Validation accuracy score 0.667 +/- 0.065\n",
      "\n",
      "\n",
      "Training accuracy score: 0.553 +/- 0.148\n",
      " Validation accuracy score 0.560 +/- 0.146\n",
      "\n",
      "\n",
      "Training accuracy score: 0.618 +/- 0.137\n",
      " Validation accuracy score 0.618 +/- 0.141\n",
      "\n",
      "\n",
      "Training accuracy score: 0.545 +/- 0.132\n",
      " Validation accuracy score 0.557 +/- 0.127\n",
      "\n",
      "\n",
      "Training accuracy score: 0.582 +/- 0.130\n",
      " Validation accuracy score 0.594 +/- 0.134\n",
      "\n",
      "\n",
      "Training accuracy score: 0.605 +/- 0.137\n",
      " Validation accuracy score 0.614 +/- 0.140\n",
      "\n",
      "\n",
      "Training accuracy score: 0.569 +/- 0.147\n",
      " Validation accuracy score 0.562 +/- 0.155\n",
      "\n",
      "\n",
      "Training accuracy score: 0.580 +/- 0.128\n",
      " Validation accuracy score 0.577 +/- 0.135\n",
      "\n",
      "\n",
      "Training accuracy score: 0.595 +/- 0.119\n",
      " Validation accuracy score 0.594 +/- 0.128\n"
     ]
    }
   ],
   "source": [
    "from sklearn.svm import SVC\n",
    "import numpy as np\n",
    "from sklearn.model_selection import GridSearchCV\n",
    "\n",
    "all_scores = pd.DataFrame()\n",
    "def get_C_SVM(df):\n",
    "    for c in np.arange(1, 2, 0.1):\n",
    "        model = SVC(C=c, kernel='linear', random_state=42, probability=True)\n",
    "        scores = train_model_by_kfold(df, model)\n",
    "        scores['C'] = c\n",
    "        all_scores = all_scores.append(scores, ignore_index=True)\n",
    "    return  all_scores\n",
    "\n",
    "\n",
    "def get_decision_function_shape_SVM(df): \n",
    "    decision_function_shape= ['ovo', 'ovr']\n",
    "    all_scores = pd.DataFrame()\n",
    "    for decision in decision_function_shape:\n",
    "        model =  SVC(C=1, kernel='linear',decision_function_shape=decision, random_state=42, probability=True)\n",
    "        scores = train_model_by_kfold(df, model)\n",
    "        scores['decision_function_shape'] = decision\n",
    "        all_scores = all_scores.append(scores, ignore_index=True)\n",
    "    return  all_scores\n",
    "\n",
    "def get_result_coeff_and_intrec(df):\n",
    "    x=df.drop(columns=['target'])\n",
    "    y=df['target']\n",
    "    SVC_best_model= SVC(C=1, kernel='linear',decision_function_shape='ovo', random_state=42, probability=True)\n",
    "    SVC_best_model.fit(x,y)\n",
    "    print('Coefficients: \\n',SVC_best_model.coef_)\n",
    "    print('Intercepts: \\n', SVC_best_model.intercept_)\n"
   ]
  },
  {
   "cell_type": "code",
   "execution_count": 10,
   "metadata": {},
   "outputs": [
    {
     "data": {
      "text/html": [
       "<div>\n",
       "<style scoped>\n",
       "    .dataframe tbody tr th:only-of-type {\n",
       "        vertical-align: middle;\n",
       "    }\n",
       "\n",
       "    .dataframe tbody tr th {\n",
       "        vertical-align: top;\n",
       "    }\n",
       "\n",
       "    .dataframe thead th {\n",
       "        text-align: right;\n",
       "    }\n",
       "</style>\n",
       "<table border=\"1\" class=\"dataframe\">\n",
       "  <thead>\n",
       "    <tr style=\"text-align: right;\">\n",
       "      <th></th>\n",
       "      <th>Training Score</th>\n",
       "      <th>Validation Score</th>\n",
       "      <th>C</th>\n",
       "    </tr>\n",
       "  </thead>\n",
       "  <tbody>\n",
       "    <tr>\n",
       "      <th>0</th>\n",
       "      <td>0.685571</td>\n",
       "      <td>0.684731</td>\n",
       "      <td>1.0</td>\n",
       "    </tr>\n",
       "    <tr>\n",
       "      <th>1</th>\n",
       "      <td>0.665082</td>\n",
       "      <td>0.666819</td>\n",
       "      <td>1.1</td>\n",
       "    </tr>\n",
       "    <tr>\n",
       "      <th>2</th>\n",
       "      <td>0.553350</td>\n",
       "      <td>0.559789</td>\n",
       "      <td>1.2</td>\n",
       "    </tr>\n",
       "    <tr>\n",
       "      <th>3</th>\n",
       "      <td>0.618253</td>\n",
       "      <td>0.617760</td>\n",
       "      <td>1.3</td>\n",
       "    </tr>\n",
       "    <tr>\n",
       "      <th>4</th>\n",
       "      <td>0.544642</td>\n",
       "      <td>0.556733</td>\n",
       "      <td>1.4</td>\n",
       "    </tr>\n",
       "    <tr>\n",
       "      <th>5</th>\n",
       "      <td>0.582473</td>\n",
       "      <td>0.593602</td>\n",
       "      <td>1.5</td>\n",
       "    </tr>\n",
       "    <tr>\n",
       "      <th>6</th>\n",
       "      <td>0.604703</td>\n",
       "      <td>0.613934</td>\n",
       "      <td>1.6</td>\n",
       "    </tr>\n",
       "    <tr>\n",
       "      <th>7</th>\n",
       "      <td>0.568921</td>\n",
       "      <td>0.562075</td>\n",
       "      <td>1.7</td>\n",
       "    </tr>\n",
       "    <tr>\n",
       "      <th>8</th>\n",
       "      <td>0.580038</td>\n",
       "      <td>0.576864</td>\n",
       "      <td>1.8</td>\n",
       "    </tr>\n",
       "    <tr>\n",
       "      <th>9</th>\n",
       "      <td>0.594879</td>\n",
       "      <td>0.594265</td>\n",
       "      <td>1.9</td>\n",
       "    </tr>\n",
       "  </tbody>\n",
       "</table>\n",
       "</div>"
      ],
      "text/plain": [
       "   Training Score  Validation Score    C\n",
       "0        0.685571          0.684731  1.0\n",
       "1        0.665082          0.666819  1.1\n",
       "2        0.553350          0.559789  1.2\n",
       "3        0.618253          0.617760  1.3\n",
       "4        0.544642          0.556733  1.4\n",
       "5        0.582473          0.593602  1.5\n",
       "6        0.604703          0.613934  1.6\n",
       "7        0.568921          0.562075  1.7\n",
       "8        0.580038          0.576864  1.8\n",
       "9        0.594879          0.594265  1.9"
      ]
     },
     "execution_count": 10,
     "metadata": {},
     "output_type": "execute_result"
    }
   ],
   "source": [
    "all_scores"
   ]
  },
  {
   "cell_type": "code",
   "execution_count": 11,
   "metadata": {},
   "outputs": [
    {
     "name": "stdout",
     "output_type": "stream",
     "text": [
      "\n",
      "\n",
      "Training accuracy score: 0.686 +/- 0.019\n",
      " Validation accuracy score 0.685 +/- 0.031\n",
      "\n",
      "\n",
      "Training accuracy score: 0.686 +/- 0.019\n",
      " Validation accuracy score 0.685 +/- 0.031\n"
     ]
    }
   ],
   "source": [
    "decision_function_shape= ['ovo', 'ovr']\n",
    "all_scores = pd.DataFrame()\n",
    "for decision in decision_function_shape:\n",
    "    model =  SVC(C=1, kernel='linear',decision_function_shape=decision, random_state=42, probability=True)\n",
    "    scores = train_model_by_kfold(data, model)\n",
    "    scores['decision_function_shape'] = decision\n",
    "    all_scores = all_scores.append(scores, ignore_index=True)"
   ]
  },
  {
   "cell_type": "code",
   "execution_count": 12,
   "metadata": {},
   "outputs": [
    {
     "data": {
      "text/html": [
       "<div>\n",
       "<style scoped>\n",
       "    .dataframe tbody tr th:only-of-type {\n",
       "        vertical-align: middle;\n",
       "    }\n",
       "\n",
       "    .dataframe tbody tr th {\n",
       "        vertical-align: top;\n",
       "    }\n",
       "\n",
       "    .dataframe thead th {\n",
       "        text-align: right;\n",
       "    }\n",
       "</style>\n",
       "<table border=\"1\" class=\"dataframe\">\n",
       "  <thead>\n",
       "    <tr style=\"text-align: right;\">\n",
       "      <th></th>\n",
       "      <th>Training Score</th>\n",
       "      <th>Validation Score</th>\n",
       "      <th>decision_function_shape</th>\n",
       "    </tr>\n",
       "  </thead>\n",
       "  <tbody>\n",
       "    <tr>\n",
       "      <th>0</th>\n",
       "      <td>0.685571</td>\n",
       "      <td>0.684731</td>\n",
       "      <td>ovo</td>\n",
       "    </tr>\n",
       "    <tr>\n",
       "      <th>1</th>\n",
       "      <td>0.685571</td>\n",
       "      <td>0.684731</td>\n",
       "      <td>ovr</td>\n",
       "    </tr>\n",
       "  </tbody>\n",
       "</table>\n",
       "</div>"
      ],
      "text/plain": [
       "   Training Score  Validation Score decision_function_shape\n",
       "0        0.685571          0.684731                     ovo\n",
       "1        0.685571          0.684731                     ovr"
      ]
     },
     "execution_count": 12,
     "metadata": {},
     "output_type": "execute_result"
    }
   ],
   "source": [
    "all_scores"
   ]
  },
  {
   "cell_type": "code",
   "execution_count": 26,
   "metadata": {},
   "outputs": [
    {
     "name": "stdout",
     "output_type": "stream",
     "text": [
      "Coefficients: \n",
      " [[ 0.          0.00011458 -0.00020456 -0.00045868]]\n",
      "Intercepts: \n",
      " [-0.99996286]\n"
     ]
    }
   ],
   "source": [
    "x=data.drop(columns=['target'])\n",
    "y=data['target']\n",
    "SVC_best_model= SVC(C=1, kernel='linear',decision_function_shape='ovo', random_state=42, probability=True)\n",
    "SVC_best_model.fit(x,y)\n",
    "print('Coefficients: \\n',SVC_best_model.coef_)\n",
    "print('Intercepts: \\n', SVC_best_model.intercept_)"
   ]
  },
  {
   "cell_type": "code",
   "execution_count": 17,
   "metadata": {},
   "outputs": [],
   "source": [
    "\n"
   ]
  },
  {
   "cell_type": "code",
   "execution_count": 18,
   "metadata": {},
   "outputs": [
    {
     "data": {
      "text/html": [
       "<div>\n",
       "<style scoped>\n",
       "    .dataframe tbody tr th:only-of-type {\n",
       "        vertical-align: middle;\n",
       "    }\n",
       "\n",
       "    .dataframe tbody tr th {\n",
       "        vertical-align: top;\n",
       "    }\n",
       "\n",
       "    .dataframe thead th {\n",
       "        text-align: right;\n",
       "    }\n",
       "</style>\n",
       "<table border=\"1\" class=\"dataframe\">\n",
       "  <thead>\n",
       "    <tr style=\"text-align: right;\">\n",
       "      <th></th>\n",
       "      <th>param</th>\n",
       "      <th>Val_Accuracy</th>\n",
       "      <th>Train_Accuracy</th>\n",
       "    </tr>\n",
       "  </thead>\n",
       "  <tbody>\n",
       "    <tr>\n",
       "      <th>0</th>\n",
       "      <td>{'C': 1.0, 'decision_function_shape': 'ovo'}</td>\n",
       "      <td>0.768234</td>\n",
       "      <td>0.768234</td>\n",
       "    </tr>\n",
       "  </tbody>\n",
       "</table>\n",
       "</div>"
      ],
      "text/plain": [
       "                                          param  Val_Accuracy  Train_Accuracy\n",
       "0  {'C': 1.0, 'decision_function_shape': 'ovo'}      0.768234        0.768234"
      ]
     },
     "execution_count": 18,
     "metadata": {},
     "output_type": "execute_result"
    }
   ],
   "source": [
    "\n"
   ]
  },
  {
   "cell_type": "code",
   "execution_count": null,
   "metadata": {},
   "outputs": [],
   "source": [
    "print('Coefficients: \\n', best_model_SVM.coef_)\n",
    "print('Intercepts: \\n', best_model_SVM.intercept_)"
   ]
  }
 ],
 "metadata": {
  "kernelspec": {
   "display_name": "Python 3 (ipykernel)",
   "language": "python",
   "name": "python3"
  },
  "language_info": {
   "codemirror_mode": {
    "name": "ipython",
    "version": 3
   },
   "file_extension": ".py",
   "mimetype": "text/x-python",
   "name": "python",
   "nbconvert_exporter": "python",
   "pygments_lexer": "ipython3",
   "version": "3.9.6"
  }
 },
 "nbformat": 4,
 "nbformat_minor": 1
}