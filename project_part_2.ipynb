{
 "cells": [
  {
   "cell_type": "code",
   "execution_count": 1,
   "metadata": {},
   "outputs": [],
   "source": [
    "from helper_functions.get_processed_data import *\n",
    "from model_training_functions.kfold_cross_validation import *\n",
    "from model_training_functions.decision_tree import *\n",
    "path = 'XY_train (2).csv'\n",
    "\n",
    "data = pd.read_csv(path)"
   ]
  },
  {
   "cell_type": "code",
   "execution_count": null,
   "metadata": {},
   "outputs": [],
   "source": []
  },
  {
   "cell_type": "code",
   "execution_count": 2,
   "metadata": {
    "pycharm": {
     "name": "#%%\n"
    }
   },
   "outputs": [],
   "source": [
    "%%capture \n",
    "data = get_processed_data(data)"
   ]
  },
  {
   "cell_type": "code",
   "execution_count": null,
   "metadata": {},
   "outputs": [],
   "source": []
  },
  {
   "cell_type": "code",
   "execution_count": 3,
   "metadata": {
    "pycharm": {
     "name": "#%%\n"
    }
   },
   "outputs": [
    {
     "data": {
      "text/html": [
       "<div>\n",
       "<style scoped>\n",
       "    .dataframe tbody tr th:only-of-type {\n",
       "        vertical-align: middle;\n",
       "    }\n",
       "\n",
       "    .dataframe tbody tr th {\n",
       "        vertical-align: top;\n",
       "    }\n",
       "\n",
       "    .dataframe thead th {\n",
       "        text-align: right;\n",
       "    }\n",
       "</style>\n",
       "<table border=\"1\" class=\"dataframe\">\n",
       "  <thead>\n",
       "    <tr style=\"text-align: right;\">\n",
       "      <th></th>\n",
       "      <th>Has relevent experience</th>\n",
       "      <th>Full time course</th>\n",
       "      <th>training_hours</th>\n",
       "      <th>experience</th>\n",
       "      <th>qualification_score</th>\n",
       "      <th>city_development_index</th>\n",
       "      <th>target</th>\n",
       "    </tr>\n",
       "  </thead>\n",
       "  <tbody>\n",
       "    <tr>\n",
       "      <th>1</th>\n",
       "      <td>1</td>\n",
       "      <td>0</td>\n",
       "      <td>0.779104</td>\n",
       "      <td>0.24</td>\n",
       "      <td>0.418507</td>\n",
       "      <td>0.897</td>\n",
       "      <td>0</td>\n",
       "    </tr>\n",
       "    <tr>\n",
       "      <th>4</th>\n",
       "      <td>1</td>\n",
       "      <td>1</td>\n",
       "      <td>0.125373</td>\n",
       "      <td>0.16</td>\n",
       "      <td>0.649334</td>\n",
       "      <td>0.555</td>\n",
       "      <td>1</td>\n",
       "    </tr>\n",
       "    <tr>\n",
       "      <th>5</th>\n",
       "      <td>1</td>\n",
       "      <td>0</td>\n",
       "      <td>0.050746</td>\n",
       "      <td>1.00</td>\n",
       "      <td>0.045800</td>\n",
       "      <td>0.897</td>\n",
       "      <td>0</td>\n",
       "    </tr>\n",
       "    <tr>\n",
       "      <th>6</th>\n",
       "      <td>1</td>\n",
       "      <td>0</td>\n",
       "      <td>0.083582</td>\n",
       "      <td>0.24</td>\n",
       "      <td>0.449041</td>\n",
       "      <td>0.920</td>\n",
       "      <td>0</td>\n",
       "    </tr>\n",
       "    <tr>\n",
       "      <th>7</th>\n",
       "      <td>1</td>\n",
       "      <td>0</td>\n",
       "      <td>0.361194</td>\n",
       "      <td>0.52</td>\n",
       "      <td>0.281194</td>\n",
       "      <td>0.698</td>\n",
       "      <td>1</td>\n",
       "    </tr>\n",
       "  </tbody>\n",
       "</table>\n",
       "</div>"
      ],
      "text/plain": [
       "   Has relevent experience  Full time course  training_hours  experience  qualification_score  city_development_index  target\n",
       "1                        1                 0        0.779104        0.24             0.418507                   0.897       0\n",
       "4                        1                 1        0.125373        0.16             0.649334                   0.555       1\n",
       "5                        1                 0        0.050746        1.00             0.045800                   0.897       0\n",
       "6                        1                 0        0.083582        0.24             0.449041                   0.920       0\n",
       "7                        1                 0        0.361194        0.52             0.281194                   0.698       1"
      ]
     },
     "execution_count": 3,
     "metadata": {},
     "output_type": "execute_result"
    }
   ],
   "source": [
    "data.head()"
   ]
  },
  {
   "cell_type": "code",
   "execution_count": 4,
   "metadata": {},
   "outputs": [
    {
     "name": "stdout",
     "output_type": "stream",
     "text": [
      "0.6825153374233128\n",
      "0.7062883435582822\n",
      "0.7223926380368099\n",
      "0.718558282208589\n",
      "0.7208588957055214\n",
      "0.7131901840490797\n",
      "0.7285276073619632\n",
      "0.7085889570552147\n",
      "0.7262269938650306\n",
      "0.7045280122793554\n",
      "\n",
      "\n",
      "Cross-Validation accuracy: 0.713 +/- 0.013\n"
     ]
    }
   ],
   "source": [
    "from sklearn.datasets import load_iris\n",
    "from sklearn.model_selection import cross_val_score\n",
    "from sklearn.tree import DecisionTreeClassifier\n",
    "\n",
    "clf = DecisionTreeClassifier(random_state=0)\n",
    "train_model_by_kfold(data, clf)"
   ]
  },
  {
   "cell_type": "code",
   "execution_count": 11,
   "metadata": {},
   "outputs": [
    {
     "name": "stdout",
     "output_type": "stream",
     "text": [
      "0.7776073619631901\n",
      "0.781441717791411\n",
      "0.8174846625766872\n",
      "0.7845092024539877\n",
      "0.8090490797546013\n",
      "0.8021472392638037\n",
      "0.816717791411043\n",
      "0.7998466257668712\n",
      "0.8090490797546013\n",
      "0.7904834996162702\n",
      "\n",
      "\n",
      "Cross-Validation accuracy: 0.799 +/- 0.014\n"
     ]
    },
    {
     "ename": "TypeError",
     "evalue": "'NoneType' object does not support item assignment",
     "output_type": "error",
     "traceback": [
      "\u001B[1;31m---------------------------------------------------------------------------\u001B[0m",
      "\u001B[1;31mTypeError\u001B[0m                                 Traceback (most recent call last)",
      "\u001B[1;32m~\\AppData\\Local\\Temp/ipykernel_37612/2725666998.py\u001B[0m in \u001B[0;36m<module>\u001B[1;34m\u001B[0m\n\u001B[1;32m----> 1\u001B[1;33m \u001B[0mmax_depth\u001B[0m\u001B[1;33m(\u001B[0m\u001B[0mdata\u001B[0m\u001B[1;33m,\u001B[0m\u001B[0mdo_plot\u001B[0m\u001B[1;33m=\u001B[0m\u001B[1;32mTrue\u001B[0m\u001B[1;33m)\u001B[0m\u001B[1;33m\u001B[0m\u001B[1;33m\u001B[0m\u001B[0m\n\u001B[0m",
      "\u001B[1;32m~\\PycharmProjects\\ml_project\\model_training_functions\\decision_tree.py\u001B[0m in \u001B[0;36mmax_depth\u001B[1;34m(data, do_plot)\u001B[0m\n\u001B[0;32m     14\u001B[0m         \u001B[0mmodel\u001B[0m \u001B[1;33m=\u001B[0m \u001B[0mDecisionTreeClassifier\u001B[0m\u001B[1;33m(\u001B[0m\u001B[0mmax_depth\u001B[0m\u001B[1;33m=\u001B[0m\u001B[0mdepth\u001B[0m\u001B[1;33m)\u001B[0m\u001B[1;33m\u001B[0m\u001B[1;33m\u001B[0m\u001B[0m\n\u001B[0;32m     15\u001B[0m         \u001B[0mscores\u001B[0m \u001B[1;33m=\u001B[0m \u001B[0mtrain_model_by_kfold\u001B[0m\u001B[1;33m(\u001B[0m\u001B[0mdata\u001B[0m\u001B[1;33m,\u001B[0m \u001B[0mmodel\u001B[0m\u001B[1;33m)\u001B[0m\u001B[1;33m\u001B[0m\u001B[1;33m\u001B[0m\u001B[0m\n\u001B[1;32m---> 16\u001B[1;33m         \u001B[0mscores\u001B[0m\u001B[1;33m[\u001B[0m\u001B[1;34m'max_depth'\u001B[0m\u001B[1;33m]\u001B[0m \u001B[1;33m=\u001B[0m \u001B[0mdepth\u001B[0m\u001B[1;33m\u001B[0m\u001B[1;33m\u001B[0m\u001B[0m\n\u001B[0m\u001B[0;32m     17\u001B[0m         \u001B[0mall_scores\u001B[0m \u001B[1;33m=\u001B[0m \u001B[0mall_scores\u001B[0m\u001B[1;33m.\u001B[0m\u001B[0mappend\u001B[0m\u001B[1;33m(\u001B[0m\u001B[0mscores\u001B[0m\u001B[1;33m,\u001B[0m \u001B[0mignore_index\u001B[0m\u001B[1;33m=\u001B[0m\u001B[1;32mTrue\u001B[0m\u001B[1;33m)\u001B[0m\u001B[1;33m\u001B[0m\u001B[1;33m\u001B[0m\u001B[0m\n\u001B[0;32m     18\u001B[0m \u001B[1;33m\u001B[0m\u001B[0m\n",
      "\u001B[1;31mTypeError\u001B[0m: 'NoneType' object does not support item assignment"
     ]
    }
   ],
   "source": [
    "max_depth(data,do_plot=True)"
   ]
  },
  {
   "cell_type": "code",
   "execution_count": 136,
   "metadata": {},
   "outputs": [],
   "source": [
    "def train_model_by_kfold1(df, model):\n",
    "    kf = KFold(n_splits=10)\n",
    "    X = df.drop(columns=['target'])\n",
    "    y = df['target']\n",
    "    scores = []\n",
    "    for train_index, test_index in kf.split(df):\n",
    "        X_train, X_test = X.iloc[train_index], X.iloc[test_index]\n",
    "        y_train, y_test = y.iloc[train_index], y.iloc[test_index]\n",
    "        model.fit(X_train,y_train)\n",
    "        score = model.score(X_test, y_test)\n",
    "        scores.append(score)\n",
    "        print(score)\n",
    "    \n",
    "    print('\\n\\nCross-Validation accuracy: %.3f +/- %.3f' % (np.mean(scores), np.std(scores)))\n",
    "    return  np.mean(scores)"
   ]
  },
  {
   "cell_type": "code",
   "execution_count": null,
   "metadata": {},
   "outputs": [],
   "source": []
  },
  {
   "cell_type": "code",
   "execution_count": 137,
   "metadata": {},
   "outputs": [],
   "source": [
    "def max_depth1(data, do_plot=False):\n",
    "    depths = range(1, 10)\n",
    "    all_scores = pd.DataFrame()\n",
    "    Score=[]\n",
    "    max_depth= []\n",
    "    for depth in depths:\n",
    "        model = DecisionTreeClassifier(max_depth=depth)\n",
    "        scores = train_model_by_kfold1(data, model)\n",
    "        Score.append(scores)\n",
    "        max_depth.append(depth)\n",
    "    if do_plot:\n",
    "        plot_max_depth(all_scores)\n",
    "    \n",
    "    return all_scores\n"
   ]
  },
  {
   "cell_type": "code",
   "execution_count": 138,
   "metadata": {},
   "outputs": [],
   "source": [
    "def max_depth2(data, do_plot=False):\n",
    "    depths = range(1, 10)\n",
    "    all_scores = pd.DataFrame()\n",
    "    \n",
    "    for depth in depths:\n",
    "        model = DecisionTreeClassifier(max_depth=depth)\n",
    "        scores = train_model_by_kfold(data, model)\n",
    "        all_scores = all_scores.append({'max_depth': depth,\n",
    "                          'scores': scores}, ignore_index=True)\n",
    "    if do_plot:\n",
    "        plot_max_depth(all_scores)\n",
    "\n",
    "    return all_scores"
   ]
  },
  {
   "cell_type": "code",
   "execution_count": null,
   "metadata": {},
   "outputs": [],
   "source": []
  },
  {
   "cell_type": "code",
   "execution_count": 139,
   "metadata": {},
   "outputs": [
    {
     "name": "stdout",
     "output_type": "stream",
     "text": [
      "0.7776073619631901\n",
      "0.781441717791411\n",
      "0.8174846625766872\n",
      "0.7845092024539877\n",
      "0.8090490797546013\n",
      "0.8021472392638037\n",
      "0.816717791411043\n",
      "0.7998466257668712\n",
      "0.8090490797546013\n",
      "0.7904834996162702\n",
      "\n",
      "\n",
      "Cross-Validation accuracy: 0.799 +/- 0.014\n",
      "0.772239263803681\n",
      "0.7822085889570553\n",
      "0.8205521472392638\n",
      "0.7845092024539877\n",
      "0.8067484662576687\n",
      "0.8006134969325154\n",
      "0.8174846625766872\n",
      "0.8006134969325154\n",
      "0.8075153374233128\n",
      "0.7927858787413661\n",
      "\n",
      "\n",
      "Cross-Validation accuracy: 0.799 +/- 0.015\n",
      "0.7760736196319018\n",
      "0.7829754601226994\n",
      "0.8190184049079755\n",
      "0.7906441717791411\n",
      "0.8075153374233128\n",
      "0.8013803680981595\n",
      "0.8190184049079755\n",
      "0.8021472392638037\n",
      "0.8075153374233128\n",
      "0.7927858787413661\n",
      "\n",
      "\n",
      "Cross-Validation accuracy: 0.800 +/- 0.014\n",
      "0.7745398773006135\n",
      "0.7829754601226994\n",
      "0.8190184049079755\n",
      "0.7906441717791411\n",
      "0.8067484662576687\n",
      "0.8006134969325154\n",
      "0.8174846625766872\n",
      "0.8021472392638037\n",
      "0.8075153374233128\n",
      "0.7927858787413661\n",
      "\n",
      "\n",
      "Cross-Validation accuracy: 0.799 +/- 0.014\n",
      "0.772239263803681\n",
      "0.781441717791411\n",
      "0.8182515337423313\n",
      "0.7891104294478528\n",
      "0.8021472392638037\n",
      "0.7998466257668712\n",
      "0.816717791411043\n",
      "0.8006134969325154\n",
      "0.8059815950920245\n",
      "0.7920184190330007\n",
      "\n",
      "\n",
      "Cross-Validation accuracy: 0.798 +/- 0.014\n",
      "0.7760736196319018\n",
      "0.781441717791411\n",
      "0.816717791411043\n",
      "0.7914110429447853\n",
      "0.8029141104294478\n",
      "0.7929447852760736\n",
      "0.8174846625766872\n",
      "0.7967791411042945\n",
      "0.8006134969325154\n",
      "0.7897160399079048\n",
      "\n",
      "\n",
      "Cross-Validation accuracy: 0.797 +/- 0.013\n",
      "0.772239263803681\n",
      "0.7791411042944786\n",
      "0.8121165644171779\n",
      "0.7868098159509203\n",
      "0.803680981595092\n",
      "0.7944785276073619\n",
      "0.8144171779141104\n",
      "0.7952453987730062\n",
      "0.7960122699386503\n",
      "0.7897160399079048\n",
      "\n",
      "\n",
      "Cross-Validation accuracy: 0.794 +/- 0.013\n",
      "0.7661042944785276\n",
      "0.7783742331288344\n",
      "0.8113496932515337\n",
      "0.776840490797546\n",
      "0.7891104294478528\n",
      "0.7944785276073619\n",
      "0.8098159509202454\n",
      "0.7906441717791411\n",
      "0.7944785276073619\n",
      "0.7897160399079048\n",
      "\n",
      "\n",
      "Cross-Validation accuracy: 0.790 +/- 0.013\n",
      "0.7638036809815951\n",
      "0.7737730061349694\n",
      "0.8059815950920245\n",
      "0.7745398773006135\n",
      "0.7944785276073619\n",
      "0.7799079754601227\n",
      "0.8105828220858896\n",
      "0.786042944785276\n",
      "0.7829754601226994\n",
      "0.7851112816577129\n",
      "\n",
      "\n",
      "Cross-Validation accuracy: 0.786 +/- 0.014\n"
     ]
    }
   ],
   "source": [
    "x=max_depth2(data,do_plot=False)"
   ]
  },
  {
   "cell_type": "code",
   "execution_count": null,
   "metadata": {},
   "outputs": [],
   "source": []
  },
  {
   "cell_type": "code",
   "execution_count": null,
   "metadata": {},
   "outputs": [],
   "source": []
  },
  {
   "cell_type": "code",
   "execution_count": 140,
   "metadata": {},
   "outputs": [
    {
     "name": "stdout",
     "output_type": "stream",
     "text": [
      "   max_depth    scores\n",
      "0        1.0  0.798834\n",
      "1        2.0  0.798527\n",
      "2        3.0  0.799907\n",
      "3        4.0  0.799447\n",
      "4        5.0  0.797837\n",
      "5        6.0  0.796610\n",
      "6        7.0  0.794386\n",
      "7        8.0  0.790091\n",
      "8        9.0  0.785720\n"
     ]
    }
   ],
   "source": [
    "print(x)"
   ]
  },
  {
   "cell_type": "code",
   "execution_count": null,
   "metadata": {},
   "outputs": [],
   "source": []
  },
  {
   "cell_type": "code",
   "execution_count": null,
   "metadata": {},
   "outputs": [],
   "source": []
  },
  {
   "cell_type": "code",
   "execution_count": null,
   "metadata": {},
   "outputs": [],
   "source": []
  },
  {
   "cell_type": "code",
   "execution_count": null,
   "metadata": {},
   "outputs": [],
   "source": []
  },
  {
   "cell_type": "code",
   "execution_count": null,
   "metadata": {},
   "outputs": [],
   "source": []
  },
  {
   "cell_type": "code",
   "execution_count": null,
   "metadata": {},
   "outputs": [],
   "source": []
  },
  {
   "cell_type": "code",
   "execution_count": null,
   "metadata": {},
   "outputs": [],
   "source": []
  },
  {
   "cell_type": "code",
   "execution_count": null,
   "metadata": {},
   "outputs": [],
   "source": []
  },
  {
   "cell_type": "code",
   "execution_count": null,
   "metadata": {},
   "outputs": [],
   "source": []
  },
  {
   "cell_type": "code",
   "execution_count": null,
   "metadata": {},
   "outputs": [],
   "source": []
  },
  {
   "cell_type": "code",
   "execution_count": null,
   "metadata": {},
   "outputs": [],
   "source": []
  },
  {
   "cell_type": "code",
   "execution_count": null,
   "metadata": {},
   "outputs": [],
   "source": []
  },
  {
   "cell_type": "code",
   "execution_count": null,
   "metadata": {},
   "outputs": [],
   "source": [
    "criterion(data, do_plot=True)"
   ]
  },
  {
   "cell_type": "code",
   "execution_count": null,
   "metadata": {},
   "outputs": [],
   "source": []
  },
  {
   "cell_type": "code",
   "execution_count": null,
   "metadata": {},
   "outputs": [],
   "source": []
  },
  {
   "cell_type": "code",
   "execution_count": null,
   "metadata": {},
   "outputs": [],
   "source": []
  },
  {
   "cell_type": "code",
   "execution_count": 52,
   "metadata": {},
   "outputs": [
    {
     "name": "stdout",
     "output_type": "stream",
     "text": [
      "0.772239263803681\n",
      "0.781441717791411\n",
      "0.8182515337423313\n",
      "0.7891104294478528\n",
      "0.8021472392638037\n",
      "0.7998466257668712\n",
      "0.816717791411043\n",
      "0.8006134969325154\n",
      "0.8059815950920245\n",
      "0.7920184190330007\n",
      "\n",
      "\n",
      "Cross-Validation accuracy: 0.798 +/- 0.014\n"
     ]
    },
    {
     "ename": "TypeError",
     "evalue": "'NoneType' object does not support item assignment",
     "output_type": "error",
     "traceback": [
      "\u001B[1;31m---------------------------------------------------------------------------\u001B[0m",
      "\u001B[1;31mTypeError\u001B[0m                                 Traceback (most recent call last)",
      "\u001B[1;32m~\\AppData\\Local\\Temp/ipykernel_37612/1313100507.py\u001B[0m in \u001B[0;36m<module>\u001B[1;34m\u001B[0m\n\u001B[1;32m----> 1\u001B[1;33m \u001B[0mcriterion\u001B[0m\u001B[1;33m(\u001B[0m\u001B[0mdata\u001B[0m\u001B[1;33m,\u001B[0m \u001B[0mdo_plot\u001B[0m\u001B[1;33m=\u001B[0m\u001B[1;32mTrue\u001B[0m\u001B[1;33m)\u001B[0m\u001B[1;33m\u001B[0m\u001B[1;33m\u001B[0m\u001B[0m\n\u001B[0m",
      "\u001B[1;32m~\\PycharmProjects\\ml_project\\model_training_functions\\decision_tree.py\u001B[0m in \u001B[0;36mcriterion\u001B[1;34m(data, do_plot)\u001B[0m\n\u001B[0;32m     30\u001B[0m         \u001B[0mmodel\u001B[0m \u001B[1;33m=\u001B[0m \u001B[0mDecisionTreeClassifier\u001B[0m\u001B[1;33m(\u001B[0m\u001B[0mmax_depth\u001B[0m\u001B[1;33m=\u001B[0m\u001B[1;36m5\u001B[0m\u001B[1;33m,\u001B[0m \u001B[0mcriterion\u001B[0m\u001B[1;33m=\u001B[0m\u001B[0mcriterion\u001B[0m\u001B[1;33m)\u001B[0m\u001B[1;33m\u001B[0m\u001B[1;33m\u001B[0m\u001B[0m\n\u001B[0;32m     31\u001B[0m         \u001B[0mscores\u001B[0m \u001B[1;33m=\u001B[0m \u001B[0mtrain_model_by_kfold\u001B[0m\u001B[1;33m(\u001B[0m\u001B[0mdata\u001B[0m\u001B[1;33m,\u001B[0m \u001B[0mmodel\u001B[0m\u001B[1;33m)\u001B[0m\u001B[1;33m\u001B[0m\u001B[1;33m\u001B[0m\u001B[0m\n\u001B[1;32m---> 32\u001B[1;33m         \u001B[0mscores\u001B[0m\u001B[1;33m[\u001B[0m\u001B[1;34m'criterion'\u001B[0m\u001B[1;33m]\u001B[0m \u001B[1;33m=\u001B[0m \u001B[0mcriterion\u001B[0m\u001B[1;33m\u001B[0m\u001B[1;33m\u001B[0m\u001B[0m\n\u001B[0m\u001B[0;32m     33\u001B[0m         \u001B[0mall_scores\u001B[0m \u001B[1;33m=\u001B[0m \u001B[0mall_scores\u001B[0m\u001B[1;33m.\u001B[0m\u001B[0mappend\u001B[0m\u001B[1;33m(\u001B[0m\u001B[0mscores\u001B[0m\u001B[1;33m,\u001B[0m \u001B[0mignore_index\u001B[0m\u001B[1;33m=\u001B[0m\u001B[1;32mTrue\u001B[0m\u001B[1;33m)\u001B[0m\u001B[1;33m\u001B[0m\u001B[1;33m\u001B[0m\u001B[0m\n\u001B[0;32m     34\u001B[0m \u001B[1;33m\u001B[0m\u001B[0m\n",
      "\u001B[1;31mTypeError\u001B[0m: 'NoneType' object does not support item assignment"
     ]
    }
   ],
   "source": [
    "criterion(data, do_plot=True)"
   ]
  },
  {
   "cell_type": "code",
   "execution_count": null,
   "metadata": {},
   "outputs": [],
   "source": []
  },
  {
   "cell_type": "code",
   "execution_count": null,
   "metadata": {},
   "outputs": [],
   "source": [
    "min_samples_leaf(data, do_plot)"
   ]
  },
  {
   "cell_type": "code",
   "execution_count": null,
   "metadata": {},
   "outputs": [],
   "source": [
    "min_impurity_decrease(data, do_plot)"
   ]
  },
  {
   "cell_type": "code",
   "execution_count": null,
   "metadata": {},
   "outputs": [],
   "source": []
  }
 ],
 "metadata": {
  "kernelspec": {
   "display_name": "Python 3 (ipykernel)",
   "language": "python",
   "name": "python3"
  },
  "language_info": {
   "codemirror_mode": {
    "name": "ipython",
    "version": 3
   },
   "file_extension": ".py",
   "mimetype": "text/x-python",
   "name": "python",
   "nbconvert_exporter": "python",
   "pygments_lexer": "ipython3",
   "version": "3.9.6"
  }
 },
 "nbformat": 4,
 "nbformat_minor": 1
}