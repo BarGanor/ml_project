{
 "cells": [
  {
   "cell_type": "code",
   "execution_count": 1,
   "metadata": {},
   "outputs": [],
   "source": [
    "from helper_functions.get_processed_data import *\n",
    "from model_training_functions.kfold_cross_validation import *\n",
    "from sklearn_extra.cluster import KMedoids\n",
    "\n",
    "path = 'XY_train (2).csv'\n",
    "\n",
    "data = pd.read_csv(path)"
   ]
  },
  {
   "cell_type": "code",
   "execution_count": 2,
   "metadata": {},
   "outputs": [],
   "source": [
    "%%capture \n",
    "data = get_processed_data(data)"
   ]
  },
  {
   "cell_type": "code",
   "execution_count": 3,
   "metadata": {
    "pycharm": {
     "is_executing": true,
     "name": "#%%\n"
    }
   },
   "outputs": [
    {
     "data": {
      "text/html": [
       "<div>\n",
       "<style scoped>\n",
       "    .dataframe tbody tr th:only-of-type {\n",
       "        vertical-align: middle;\n",
       "    }\n",
       "\n",
       "    .dataframe tbody tr th {\n",
       "        vertical-align: top;\n",
       "    }\n",
       "\n",
       "    .dataframe thead th {\n",
       "        text-align: right;\n",
       "    }\n",
       "</style>\n",
       "<table border=\"1\" class=\"dataframe\">\n",
       "  <thead>\n",
       "    <tr style=\"text-align: right;\">\n",
       "      <th></th>\n",
       "      <th>Has relevent experience</th>\n",
       "      <th>Full time course</th>\n",
       "      <th>training_hours</th>\n",
       "      <th>experience</th>\n",
       "      <th>qualification_score</th>\n",
       "      <th>city_development_index</th>\n",
       "      <th>target</th>\n",
       "    </tr>\n",
       "  </thead>\n",
       "  <tbody>\n",
       "    <tr>\n",
       "      <th>1</th>\n",
       "      <td>1</td>\n",
       "      <td>0</td>\n",
       "      <td>0.779104</td>\n",
       "      <td>0.24</td>\n",
       "      <td>0.418507</td>\n",
       "      <td>0.897</td>\n",
       "      <td>0</td>\n",
       "    </tr>\n",
       "    <tr>\n",
       "      <th>4</th>\n",
       "      <td>1</td>\n",
       "      <td>1</td>\n",
       "      <td>0.125373</td>\n",
       "      <td>0.16</td>\n",
       "      <td>0.649334</td>\n",
       "      <td>0.555</td>\n",
       "      <td>1</td>\n",
       "    </tr>\n",
       "    <tr>\n",
       "      <th>5</th>\n",
       "      <td>1</td>\n",
       "      <td>0</td>\n",
       "      <td>0.050746</td>\n",
       "      <td>1.00</td>\n",
       "      <td>0.045800</td>\n",
       "      <td>0.897</td>\n",
       "      <td>0</td>\n",
       "    </tr>\n",
       "    <tr>\n",
       "      <th>6</th>\n",
       "      <td>1</td>\n",
       "      <td>0</td>\n",
       "      <td>0.083582</td>\n",
       "      <td>0.24</td>\n",
       "      <td>0.449041</td>\n",
       "      <td>0.920</td>\n",
       "      <td>0</td>\n",
       "    </tr>\n",
       "    <tr>\n",
       "      <th>7</th>\n",
       "      <td>1</td>\n",
       "      <td>0</td>\n",
       "      <td>0.361194</td>\n",
       "      <td>0.52</td>\n",
       "      <td>0.281194</td>\n",
       "      <td>0.698</td>\n",
       "      <td>1</td>\n",
       "    </tr>\n",
       "  </tbody>\n",
       "</table>\n",
       "</div>"
      ],
      "text/plain": [
       "   Has relevent experience  Full time course  training_hours  experience  qualification_score  city_development_index  target\n",
       "1                        1                 0        0.779104        0.24             0.418507                   0.897       0\n",
       "4                        1                 1        0.125373        0.16             0.649334                   0.555       1\n",
       "5                        1                 0        0.050746        1.00             0.045800                   0.897       0\n",
       "6                        1                 0        0.083582        0.24             0.449041                   0.920       0\n",
       "7                        1                 0        0.361194        0.52             0.281194                   0.698       1"
      ]
     },
     "execution_count": 3,
     "metadata": {},
     "output_type": "execute_result"
    }
   ],
   "source": [
    "data.head()"
   ]
  },
  {
   "cell_type": "markdown",
   "metadata": {},
   "source": [
    "## Decision Tree"
   ]
  },
  {
   "cell_type": "code",
   "execution_count": 4,
   "metadata": {
    "pycharm": {
     "is_executing": true
    }
   },
   "outputs": [],
   "source": [
    "from sklearn.model_selection import cross_val_score\n",
    "from sklearn.tree import DecisionTreeClassifier, plot_tree\n",
    "from sklearn.metrics import roc_auc_score\n",
    "from model_training_functions.decision_tree import *\n"
   ]
  },
  {
   "cell_type": "markdown",
   "metadata": {},
   "source": [
    "### Tuning Hyperparameters"
   ]
  },
  {
   "cell_type": "code",
   "execution_count": 5,
   "metadata": {
    "pycharm": {
     "is_executing": true
    }
   },
   "outputs": [],
   "source": [
    "#max_depth(data, do_plot=True)\n",
    "#criterion(data, do_plot=True)\n",
    "#min_samples_leaf(data, do_plot=True)\n",
    "#min_impurity_decrease(data, do_plot=True)"
   ]
  },
  {
   "cell_type": "markdown",
   "metadata": {},
   "source": [
    "### Picked model training"
   ]
  },
  {
   "cell_type": "code",
   "execution_count": 6,
   "metadata": {
    "pycharm": {
     "is_executing": true
    }
   },
   "outputs": [],
   "source": [
    "#dt_model = DecisionTreeClassifier(max_depth=5, criterion='entropy', min_samples_leaf=125, min_impurity_decrease=0.002)\n",
    "#train_model_by_kfold(data, dt_model)"
   ]
  },
  {
   "cell_type": "code",
   "execution_count": 7,
   "metadata": {
    "pycharm": {
     "is_executing": true
    }
   },
   "outputs": [],
   "source": [
    "#plt.figure(figsize=(70,50))\n",
    "#plot_tree(dt_model, filled=True, class_names=True, max_depth=5, fontsize=35)\n",
    "#plt.show()"
   ]
  },
  {
   "cell_type": "code",
   "execution_count": 8,
   "metadata": {},
   "outputs": [],
   "source": [
    "#feature_importance(data)\n"
   ]
  },
  {
   "cell_type": "markdown",
   "metadata": {},
   "source": [
    "## Artificial Neural Networks"
   ]
  },
  {
   "cell_type": "code",
   "execution_count": 9,
   "metadata": {
    "pycharm": {
     "is_executing": true
    }
   },
   "outputs": [],
   "source": [
    "from sklearn.neural_network import MLPClassifier"
   ]
  },
  {
   "cell_type": "markdown",
   "metadata": {},
   "source": [
    "### No Hyperparamteres"
   ]
  },
  {
   "cell_type": "code",
   "execution_count": 10,
   "metadata": {
    "pycharm": {
     "is_executing": true
    }
   },
   "outputs": [],
   "source": [
    "#ann_model = MLPClassifier()\n",
    "#train_model_by_kfold(data, ann_model)"
   ]
  },
  {
   "cell_type": "code",
   "execution_count": 11,
   "metadata": {
    "pycharm": {
     "is_executing": true
    }
   },
   "outputs": [],
   "source": [
    "from model_training_functions.artificial_neural_networks import *\n",
    "#max_iterations(data,True)\n",
    "#hidden_layer_sizes(data,True)\n",
    "#activations_function(data, True)\n",
    "#solvers(data, True)\n",
    "# n_iter_no_change(data, True)"
   ]
  },
  {
   "cell_type": "code",
   "execution_count": 12,
   "metadata": {},
   "outputs": [],
   "source": [
    "def solver(data, do_plot):\n",
    "    solvers = ['sgd', 'adam', 'lbfgs']\n",
    "    all_scores = pd.DataFrame()\n",
    "    for solver in solvers:\n",
    "        model = MLPClassifier(max_iter=600,hidden_layer_sizes=(100, 50, 10), activation='relu',solver=solver)\n",
    "        scores = train_model_by_kfold(data, model)\n",
    "        scores['solver'] = solver\n",
    "        all_scores = all_scores.append(scores, ignore_index=True)\n",
    "    \n",
    "    if do_plot:\n",
    "        plot_solver(all_scores)\n",
    "\n",
    "    return all_scores\n"
   ]
  },
  {
   "cell_type": "code",
   "execution_count": 13,
   "metadata": {},
   "outputs": [],
   "source": [
    "def plot_solver(all_scores):\n",
    "    plt.figure(figsize=(12, 5))\n",
    "    temp = pd.melt(all_scores, id_vars='solver')\n",
    "    ax1 = sns.catplot(x='solver', y='value',\n",
    "                      hue='variable', data=temp, kind='bar', legend=False)\n",
    "    ax1.set(xlabel='solver Function', ylabel='ROC-AOC Score')\n",
    "    plt.title('solver Function Tuning')\n",
    "    plt.ylim(temp['value'].min() - 0.01, temp['value'].max() + 0.01)\n",
    "    plt.legend()\n",
    "    plt.show()"
   ]
  },
  {
   "cell_type": "code",
   "execution_count": 14,
   "metadata": {},
   "outputs": [],
   "source": [
    "#solver(data, True)"
   ]
  },
  {
   "cell_type": "code",
   "execution_count": 15,
   "metadata": {},
   "outputs": [],
   "source": [
    "#n_iter_no_change(data, True)"
   ]
  },
  {
   "cell_type": "markdown",
   "metadata": {},
   "source": [
    "### Tuned Model Training\n",
    "\n",
    "__Note:__  \n",
    "Hyperparameters functions take a lot of time, so we left them out of the notebook.  \n",
    "You can import them from- **model_training_functions.decision_tree**\n"
   ]
  },
  {
   "cell_type": "code",
   "execution_count": 16,
   "metadata": {
    "pycharm": {
     "is_executing": true
    }
   },
   "outputs": [
    {
     "name": "stdout",
     "output_type": "stream",
     "text": [
      "\n",
      "\n",
      "Test accuracy: 0.735 +/- 0.018\n",
      "Training accuracy: 0.745 +/- 0.004\n"
     ]
    },
    {
     "data": {
      "text/html": [
       "<div>\n",
       "<style scoped>\n",
       "    .dataframe tbody tr th:only-of-type {\n",
       "        vertical-align: middle;\n",
       "    }\n",
       "\n",
       "    .dataframe tbody tr th {\n",
       "        vertical-align: top;\n",
       "    }\n",
       "\n",
       "    .dataframe thead th {\n",
       "        text-align: right;\n",
       "    }\n",
       "</style>\n",
       "<table border=\"1\" class=\"dataframe\">\n",
       "  <thead>\n",
       "    <tr style=\"text-align: right;\">\n",
       "      <th></th>\n",
       "      <th>training_score</th>\n",
       "      <th>test_score</th>\n",
       "    </tr>\n",
       "  </thead>\n",
       "  <tbody>\n",
       "    <tr>\n",
       "      <th>0</th>\n",
       "      <td>0.747030</td>\n",
       "      <td>0.710456</td>\n",
       "    </tr>\n",
       "    <tr>\n",
       "      <th>1</th>\n",
       "      <td>0.739535</td>\n",
       "      <td>0.738734</td>\n",
       "    </tr>\n",
       "    <tr>\n",
       "      <th>2</th>\n",
       "      <td>0.749187</td>\n",
       "      <td>0.736164</td>\n",
       "    </tr>\n",
       "    <tr>\n",
       "      <th>3</th>\n",
       "      <td>0.745505</td>\n",
       "      <td>0.735119</td>\n",
       "    </tr>\n",
       "    <tr>\n",
       "      <th>4</th>\n",
       "      <td>0.754177</td>\n",
       "      <td>0.751881</td>\n",
       "    </tr>\n",
       "    <tr>\n",
       "      <th>5</th>\n",
       "      <td>0.741847</td>\n",
       "      <td>0.699602</td>\n",
       "    </tr>\n",
       "    <tr>\n",
       "      <th>6</th>\n",
       "      <td>0.742955</td>\n",
       "      <td>0.759316</td>\n",
       "    </tr>\n",
       "    <tr>\n",
       "      <th>7</th>\n",
       "      <td>0.740305</td>\n",
       "      <td>0.733877</td>\n",
       "    </tr>\n",
       "    <tr>\n",
       "      <th>8</th>\n",
       "      <td>0.742657</td>\n",
       "      <td>0.733313</td>\n",
       "    </tr>\n",
       "    <tr>\n",
       "      <th>9</th>\n",
       "      <td>0.744039</td>\n",
       "      <td>0.747893</td>\n",
       "    </tr>\n",
       "  </tbody>\n",
       "</table>\n",
       "</div>"
      ],
      "text/plain": [
       "   training_score  test_score\n",
       "0        0.747030    0.710456\n",
       "1        0.739535    0.738734\n",
       "2        0.749187    0.736164\n",
       "3        0.745505    0.735119\n",
       "4        0.754177    0.751881\n",
       "5        0.741847    0.699602\n",
       "6        0.742955    0.759316\n",
       "7        0.740305    0.733877\n",
       "8        0.742657    0.733313\n",
       "9        0.744039    0.747893"
      ]
     },
     "execution_count": 16,
     "metadata": {},
     "output_type": "execute_result"
    }
   ],
   "source": [
    "ann_model = MLPClassifier(max_iter=600,hidden_layer_sizes=(100, 50, 10), activation='relu',n_iter_no_change= 10)\n",
    "train_model_by_kfold(data, ann_model)"
   ]
  },
  {
   "cell_type": "code",
   "execution_count": 20,
   "metadata": {},
   "outputs": [],
   "source": [
    "from sklearn.model_selection import GridSearchCV\n",
    "X_Train = data.drop(columns=['target'])\n",
    "Y_Train = data['target']"
   ]
  },
  {
   "cell_type": "code",
   "execution_count": 21,
   "metadata": {},
   "outputs": [],
   "source": [
    "decision_tree = DecisionTreeClassifier(random_state=42)\n",
    "\n",
    "parameter_options_DT = {\"criterion\": ['gini', 'entropy'],\n",
    "                        \"max_depth\": range(1, 10),\n",
    "                        \"max_features\": ['auto', 'sqrt', 'log2', None]}\n",
    "\n",
    "grid_DT = GridSearchCV(decision_tree, param_grid=parameter_options_DT, cv=10,\n",
    "                       return_train_score=True, refit=True, scoring='roc_auc')\n",
    "grid_DT.fit(X_Train, Y_Train)\n",
    "\n",
    "best_params_DT = grid_DT.best_params_\n",
    "all_score_DT = pd.DataFrame({'param': grid_DT.cv_results_[\"params\"],\n",
    "                             'Val_Accuracy': grid_DT.cv_results_[\"mean_test_score\"],\n",
    "                             'Train_Accuracy': grid_DT.cv_results_[\"mean_train_score\"]})\n",
    "best_score_DT = all_score_DT[all_score_DT['param'] == best_params_DT]\n",
    "best_DT_model = grid_DT.best_estimator_"
   ]
  },
  {
   "cell_type": "code",
   "execution_count": null,
   "metadata": {},
   "outputs": [],
   "source": []
  },
  {
   "cell_type": "code",
   "execution_count": 22,
   "metadata": {},
   "outputs": [
    {
     "ename": "NameError",
     "evalue": "name 'SVC' is not defined",
     "output_type": "error",
     "traceback": [
      "\u001B[1;31m---------------------------------------------------------------------------\u001B[0m",
      "\u001B[1;31mNameError\u001B[0m                                 Traceback (most recent call last)",
      "\u001B[1;32m~\\AppData\\Local\\Temp/ipykernel_29496/1919494657.py\u001B[0m in \u001B[0;36m<module>\u001B[1;34m\u001B[0m\n\u001B[1;32m----> 1\u001B[1;33m \u001B[0mSVM_model\u001B[0m \u001B[1;33m=\u001B[0m \u001B[0mSVC\u001B[0m\u001B[1;33m(\u001B[0m\u001B[0mkernel\u001B[0m\u001B[1;33m=\u001B[0m\u001B[1;34m'linear'\u001B[0m\u001B[1;33m,\u001B[0m \u001B[0mrandom_state\u001B[0m\u001B[1;33m=\u001B[0m\u001B[1;36m42\u001B[0m\u001B[1;33m)\u001B[0m\u001B[1;33m\u001B[0m\u001B[1;33m\u001B[0m\u001B[0m\n\u001B[0m\u001B[0;32m      2\u001B[0m param_grid = {'C': np.arange(1, 2, 0.1),\n\u001B[0;32m      3\u001B[0m               \u001B[1;34m'decision_function_shape'\u001B[0m\u001B[1;33m:\u001B[0m \u001B[1;33m[\u001B[0m\u001B[1;34m'ovo'\u001B[0m\u001B[1;33m,\u001B[0m \u001B[1;34m'ovr'\u001B[0m\u001B[1;33m]\u001B[0m\u001B[1;33m\u001B[0m\u001B[1;33m\u001B[0m\u001B[0m\n\u001B[0;32m      4\u001B[0m               }\n\u001B[0;32m      5\u001B[0m \u001B[1;33m\u001B[0m\u001B[0m\n",
      "\u001B[1;31mNameError\u001B[0m: name 'SVC' is not defined"
     ]
    }
   ],
   "source": [
    "SVM_model = SVC(kernel='linear', random_state=42)\n",
    "param_grid = {'C': np.arange(1, 2, 0.1),\n",
    "              'decision_function_shape': ['ovo', 'ovr']\n",
    "              }\n",
    "\n",
    "grid_search_SVM = GridSearchCV(estimator=SVM_model,\n",
    "                               param_grid=param_grid,\n",
    "                               refit=True,\n",
    "                               cv=10,\n",
    "                               return_train_score=True, scoring='roc_auc')\n",
    "\n",
    "grid_search_SVM.fit(X_Train, Y_Train)\n",
    "\n",
    "best_params_SVM = grid_search_SVM.best_params_\n",
    "all_score_SVM = pd.DataFrame({'param': grid_search_SVM.cv_results_[\"params\"],\n",
    "                              'Val_Accuracy': grid_search_SVM.cv_results_[\"mean_test_score\"],\n",
    "                              'Train_Accuracy': grid_search_SVM.cv_results_[\"mean_train_score\"]})\n",
    "best_score_SVM = all_score_SVM[all_score_SVM['param'] == best_params_SVM]\n",
    "\n",
    "best_model_SVM = grid_search_SVM.best_estimator_\n",
    "\n",
    "print('Coefficients: \\n', best_model_SVM.coef_)\n",
    "print('Intercepts: \\n', best_model_SVM.intercept_)"
   ]
  },
  {
   "cell_type": "code",
   "execution_count": null,
   "metadata": {},
   "outputs": [],
   "source": [
    "print(best_DT_model)\n",
    "print(best_model_SVM)"
   ]
  },
  {
   "cell_type": "markdown",
   "metadata": {},
   "source": [
    "### Confusion Matrix"
   ]
  },
  {
   "cell_type": "code",
   "execution_count": 23,
   "metadata": {},
   "outputs": [],
   "source": [
    "\n",
    "from sklearn.metrics import confusion_matrix"
   ]
  },
  {
   "cell_type": "code",
   "execution_count": 24,
   "metadata": {},
   "outputs": [],
   "source": [
    "#Final_Confusion_Matrix = np.zeros((2,2),dtype=int)\n",
    "#ann_model = MLPClassifier(max_iter=600,hidden_layer_sizes=(100, 50, 10), activation='relu',n_iter_no_change= 10)\n",
    "#kf = KFold(n_splits=10)\n",
    "#X = data.drop(columns=['target'])\n",
    "#y = data['target']\n",
    "#for train_index, test_index in kf.split(data):\n",
    "#    X_train, X_test = X.iloc[train_index], X.iloc[test_index]\n",
    "#    y_train, y_test = y.iloc[train_index], y.iloc[test_index]\n",
    "#    ann_model.fit(X_train,y_train)\n",
    "#    confusion_temp =confusion_matrix(y_true=y_train , y_pred=ann_model.predict(X_train))\n",
    "#    for i in range(0,2,1):\n",
    "#        for j in range(0,2,1):\n",
    "#            Final_Confusion_Matrix[i,j] += confusion_temp[i,j] \n",
    "\n",
    "            \n",
    "#Final_Confusion_Matrix = Final_Confusion_Matrix/10\n",
    "#Final_Confusion_Matrix = Final_Confusion_Matrix.round()\n",
    "#ax= plt.subplot()\n",
    "#sns.heatmap(Final_Confusion_Matrix, annot=True, fmt='g', ax=ax)\n",
    "#ax.set_xlabel('Predicted labels');ax.set_ylabel('True labels')\n",
    "\n",
    "#ax.set_title('Confusion Matrix');"
   ]
  },
  {
   "cell_type": "code",
   "execution_count": 39,
   "metadata": {},
   "outputs": [],
   "source": [
    "def ann_Confusion_Matrix(df,model ,do_plot=False):\n",
    "    Final_Confusion_Matrix = np.zeros((2,2),dtype=int)    \n",
    "    kf = KFold(n_splits=10)\n",
    "    X = data.drop(columns=['target'])\n",
    "    y = data['target']\n",
    "    for train_index, test_index in kf.split(data):\n",
    "        X_train, X_test = X.iloc[train_index], X.iloc[test_index]\n",
    "        y_train, y_test = y.iloc[train_index], y.iloc[test_index]\n",
    "        ann_model.fit(X_train,y_train)\n",
    "        confusion_temp =confusion_matrix(y_true=y_train , y_pred=ann_model.predict(X_train))\n",
    "        for i in range(0,2,1):\n",
    "            for j in range(0,2,1):\n",
    "                Final_Confusion_Matrix[i,j] += confusion_temp[i,j] \n",
    "    \n",
    "    if do_plot:\n",
    "        plot_ann_Confusion_Matrix(Final_Confusion_Matrix)\n",
    "        \n",
    "    return Final_Confusion_Matrix/10 "
   ]
  },
  {
   "cell_type": "code",
   "execution_count": 40,
   "metadata": {},
   "outputs": [],
   "source": [
    "def plot_ann_Confusion_Matrix(Final_Confusion_Matrix):\n",
    "    #Final_Confusion_Matrix = ((Final_Confusion_Matrix)/10)\n",
    "    Final_Confusion_Matrix = Final_Confusion_Matrix.round()\n",
    "    ax= plt.subplot()\n",
    "    sns.heatmap(Final_Confusion_Matrix, annot=True, fmt='g', ax=ax)\n",
    "    ax.set_xlabel('Predicted labels');ax.set_ylabel('True labels')\n",
    "    ax.set_title('Confusion Matrix')\n",
    "    "
   ]
  },
  {
   "cell_type": "code",
   "execution_count": 41,
   "metadata": {},
   "outputs": [
    {
     "data": {
      "text/plain": [
       "array([[8254.3,  761. ],\n",
       "       [1624.1, 1095.7]])"
      ]
     },
     "execution_count": 41,
     "metadata": {},
     "output_type": "execute_result"
    },
    {
     "data": {
      "image/png": "[encoded data removed]",
      "text/plain": [
       "<Figure size 432x288 with 2 Axes>"
      ]
     },
     "metadata": {
      "needs_background": "light"
     },
     "output_type": "display_data"
    }
   ],
   "source": [
    "\n",
    "ann_model = MLPClassifier(max_iter=600,hidden_layer_sizes=(100, 50, 10), activation='relu',n_iter_no_change= 10)\n",
    "ann_Confusion_Matrix(data,ann_model ,True)"
   ]
  },
  {
   "cell_type": "code",
   "execution_count": null,
   "metadata": {},
   "outputs": [],
   "source": [
    "Final_Confusion_Matrix = Final_Confusion_Matrix/10\n",
    "Final_Confusion_Matrix = Final_Confusion_Matrix.round()\n",
    "ax= plt.subplot()\n",
    "sns.heatmap(Final_Confusion_Matrix, annot=True, fmt='g', ax=ax)\n",
    "ax.set_xlabel('Predicted labels');ax.set_ylabel('True labels')\n",
    "ax.set_title('Confusion Matrix');"
   ]
  },
  {
   "cell_type": "markdown",
   "metadata": {},
   "source": [
    "## SVM"
   ]
  },
  {
   "cell_type": "code",
   "execution_count": 27,
   "metadata": {
    "pycharm": {
     "is_executing": true
    }
   },
   "outputs": [],
   "source": [
    "from sklearn.svm import SVC\n",
    "from model_training_functions.SVM import *\n",
    "\n",
    "svm_model= SVC(C=1.2, kernel='linear',decision_function_shape='ovr', random_state=42, probability=True)\n",
    "#train_model_by_kfold(data, svm_model)"
   ]
  },
  {
   "cell_type": "code",
   "execution_count": null,
   "metadata": {
    "pycharm": {
     "is_executing": true
    }
   },
   "outputs": [],
   "source": [
    "#C=get_C_SVM(data)\n",
    "#C.head(10)"
   ]
  },
  {
   "cell_type": "code",
   "execution_count": null,
   "metadata": {
    "pycharm": {
     "is_executing": true
    }
   },
   "outputs": [],
   "source": [
    "#des = get_decision_function_shape_SVM(data)\n",
    "#des. head()"
   ]
  },
  {
   "cell_type": "code",
   "execution_count": null,
   "metadata": {
    "pycharm": {
     "is_executing": true
    }
   },
   "outputs": [],
   "source": [
    "#best_model= get_result_coeff_and_intrec(data) "
   ]
  },
  {
   "cell_type": "markdown",
   "metadata": {},
   "source": [
    "## Unsupervised Learning - Clustering"
   ]
  },
  {
   "cell_type": "code",
   "execution_count": null,
   "metadata": {
    "pycharm": {
     "is_executing": true
    }
   },
   "outputs": [],
   "source": [
    "import seaborn as sns\n",
    "from model_training_functions.clustering import *\n",
    "model = KMedoids(n_clusters=4, random_state=42)\n",
    "model.fit(data.drop('target', axis=1))\n",
    "data['cluster'] = model.predict(data.drop('target', axis=1))\n",
    "data_cluster = reduce_dimensionality(data)\n"
   ]
  },
  {
   "cell_type": "code",
   "execution_count": null,
   "metadata": {},
   "outputs": [],
   "source": [
    "#best_cluster(data, do_plot=True)"
   ]
  },
  {
   "cell_type": "code",
   "execution_count": null,
   "metadata": {
    "pycharm": {
     "is_executing": true
    },
    "scrolled": true
   },
   "outputs": [],
   "source": [
    "sns.scatterplot(x='PC-1', y='PC-2', hue='cluster', data=data, palette='Accent')\n"
   ]
  },
  {
   "cell_type": "code",
   "execution_count": null,
   "metadata": {},
   "outputs": [],
   "source": [
    "data.groupby('cluster').mean()"
   ]
  },
  {
   "cell_type": "code",
   "execution_count": null,
   "metadata": {},
   "outputs": [],
   "source": [
    "#df = pd.read_csv(path)\n",
    "#df = get_processed_data(df)"
   ]
  },
  {
   "cell_type": "code",
   "execution_count": null,
   "metadata": {},
   "outputs": [],
   "source": [
    "new_data=pd.concat([data_cluster,data], axis=1)"
   ]
  },
  {
   "cell_type": "code",
   "execution_count": null,
   "metadata": {},
   "outputs": [],
   "source": [
    "new_data.drop(['PC-2','PC-1','PC-3'], axis=1, inplace=True)"
   ]
  },
  {
   "cell_type": "code",
   "execution_count": null,
   "metadata": {},
   "outputs": [],
   "source": [
    "new_data.head()"
   ]
  },
  {
   "cell_type": "code",
   "execution_count": null,
   "metadata": {},
   "outputs": [],
   "source": [
    "new_data.groupby('cluster').mean()"
   ]
  },
  {
   "cell_type": "code",
   "execution_count": null,
   "metadata": {},
   "outputs": [],
   "source": [
    "plot_data= new_data.groupby('cluster').mean()"
   ]
  },
  {
   "cell_type": "code",
   "execution_count": null,
   "metadata": {},
   "outputs": [],
   "source": [
    "plot_data.transpose().plot(kind='bar', figsize=(15, 8))"
   ]
  },
  {
   "cell_type": "markdown",
   "metadata": {},
   "source": [
    "# Model Evaluation "
   ]
  },
  {
   "cell_type": "code",
   "execution_count": 28,
   "metadata": {},
   "outputs": [],
   "source": [
    "from sklearn.metrics import accuracy_score\n",
    "from sklearn.metrics import precision_score\n",
    "from sklearn.metrics import recall_score\n",
    "from sklearn.metrics import f1_score"
   ]
  },
  {
   "cell_type": "code",
   "execution_count": 29,
   "metadata": {},
   "outputs": [],
   "source": [
    "def evaluation_model(df, model,model_name):\n",
    "    kf = KFold(n_splits=10)\n",
    "    X = df.drop(columns=['target'])\n",
    "    y = df['target']\n",
    "    scores = pd.DataFrame()\n",
    "    scores.append({'model':model_name},ignore_index=True)\n",
    "    scores_model = pd.DataFrame()\n",
    "    for train_index, test_index in kf.split(df):\n",
    "        X_train, X_test = X.iloc[train_index], X.iloc[test_index]\n",
    "        y_train, y_test = y.iloc[train_index], y.iloc[test_index]\n",
    "        model.fit(X_train, y_train)\n",
    "        # roc_auc scores\n",
    "        training_score_roc_auc = roc_auc_score(y_true=y_train, y_score=model.predict_proba(X_train)[:, 1])\n",
    "        test_score_roc_auc = roc_auc_score(y_true=y_test, y_score=model.predict_proba(X_test)[:, 1])    \n",
    "        #accuracy\n",
    "        training_score_accuracy = accuracy_score(y_train, model.predict(X_train))\n",
    "        test_score_accuracy = accuracy_score(y_test, model.predict(X_test)) \n",
    "        #precision \n",
    "        training_score_precision = precision_score(y_train, model.predict(X_train),average='macro')\n",
    "        test_score_precision = precision_score(y_test,model.predict(X_test),average='macro')  \n",
    "        #recall\n",
    "        training_score_recall = recall_score(y_train, model.predict(X_train),average='macro')\n",
    "        test_score_recall = recall_score(y_test,model.predict(X_test),average='macro')\n",
    "        #F1\n",
    "        training_score_F1 = f1_score(y_train, model.predict(X_train),average='macro')\n",
    "        test_score_F1 = f1_score(y_test, model.predict(X_test),average='macro')\n",
    "        #scores apend\n",
    "        scores_model = scores_model.append({'training score roc auc': training_score_roc_auc, \n",
    "                                            'test score roc auc': test_score_roc_auc,\n",
    "                                            'training score accuracy': training_score_accuracy, \n",
    "                                            'test score accuracy': test_score_accuracy,\n",
    "                                            'training score precision': training_score_precision,\n",
    "                                            'test_score_precision': test_score_precision,\n",
    "                                            'training_score_recall': training_score_recall, \n",
    "                                            'test_score_recall': test_score_recall,\n",
    "                                            'training_score_F1': training_score_F1, \n",
    "                                            'test_score_F1': test_score_F1}, ignore_index=True)\n",
    "    scores =pd.concat([scores, scores_model.mean()], axis=1)\n",
    "    return scores"
   ]
  },
  {
   "cell_type": "code",
   "execution_count": 30,
   "metadata": {},
   "outputs": [],
   "source": [
    "Evaluation_score = pd.DataFrame()\n",
    "model_DT = DecisionTreeClassifier(max_depth=5, criterion='entropy', min_samples_leaf=125, min_impurity_decrease=0.002)\n",
    "model_SVC= SVC(C=1, kernel='linear',decision_function_shape='ovr', random_state=42, probability=True)\n",
    "model_ANN = MLPClassifier(max_iter=600,hidden_layer_sizes=(100, 50, 10), activation='relu',n_iter_no_change= 15)\n"
   ]
  },
  {
   "cell_type": "code",
   "execution_count": 31,
   "metadata": {},
   "outputs": [
    {
     "name": "stderr",
     "output_type": "stream",
     "text": [
      "C:\\Users\\ofrifox\\PycharmProjects\\pythonProject\\venv\\lib\\site-packages\\sklearn\\metrics\\_classification.py:1308: UndefinedMetricWarning: Precision is ill-defined and being set to 0.0 in labels with no predicted samples. Use `zero_division` parameter to control this behavior.\n",
      "  _warn_prf(average, modifier, msg_start, len(result))\n",
      "C:\\Users\\ofrifox\\PycharmProjects\\pythonProject\\venv\\lib\\site-packages\\sklearn\\metrics\\_classification.py:1308: UndefinedMetricWarning: Precision is ill-defined and being set to 0.0 in labels with no predicted samples. Use `zero_division` parameter to control this behavior.\n",
      "  _warn_prf(average, modifier, msg_start, len(result))\n",
      "C:\\Users\\ofrifox\\PycharmProjects\\pythonProject\\venv\\lib\\site-packages\\sklearn\\metrics\\_classification.py:1308: UndefinedMetricWarning: Precision is ill-defined and being set to 0.0 in labels with no predicted samples. Use `zero_division` parameter to control this behavior.\n",
      "  _warn_prf(average, modifier, msg_start, len(result))\n",
      "C:\\Users\\ofrifox\\PycharmProjects\\pythonProject\\venv\\lib\\site-packages\\sklearn\\metrics\\_classification.py:1308: UndefinedMetricWarning: Precision is ill-defined and being set to 0.0 in labels with no predicted samples. Use `zero_division` parameter to control this behavior.\n",
      "  _warn_prf(average, modifier, msg_start, len(result))\n",
      "C:\\Users\\ofrifox\\PycharmProjects\\pythonProject\\venv\\lib\\site-packages\\sklearn\\metrics\\_classification.py:1308: UndefinedMetricWarning: Precision is ill-defined and being set to 0.0 in labels with no predicted samples. Use `zero_division` parameter to control this behavior.\n",
      "  _warn_prf(average, modifier, msg_start, len(result))\n",
      "C:\\Users\\ofrifox\\PycharmProjects\\pythonProject\\venv\\lib\\site-packages\\sklearn\\metrics\\_classification.py:1308: UndefinedMetricWarning: Precision is ill-defined and being set to 0.0 in labels with no predicted samples. Use `zero_division` parameter to control this behavior.\n",
      "  _warn_prf(average, modifier, msg_start, len(result))\n",
      "C:\\Users\\ofrifox\\PycharmProjects\\pythonProject\\venv\\lib\\site-packages\\sklearn\\metrics\\_classification.py:1308: UndefinedMetricWarning: Precision is ill-defined and being set to 0.0 in labels with no predicted samples. Use `zero_division` parameter to control this behavior.\n",
      "  _warn_prf(average, modifier, msg_start, len(result))\n",
      "C:\\Users\\ofrifox\\PycharmProjects\\pythonProject\\venv\\lib\\site-packages\\sklearn\\metrics\\_classification.py:1308: UndefinedMetricWarning: Precision is ill-defined and being set to 0.0 in labels with no predicted samples. Use `zero_division` parameter to control this behavior.\n",
      "  _warn_prf(average, modifier, msg_start, len(result))\n",
      "C:\\Users\\ofrifox\\PycharmProjects\\pythonProject\\venv\\lib\\site-packages\\sklearn\\metrics\\_classification.py:1308: UndefinedMetricWarning: Precision is ill-defined and being set to 0.0 in labels with no predicted samples. Use `zero_division` parameter to control this behavior.\n",
      "  _warn_prf(average, modifier, msg_start, len(result))\n",
      "C:\\Users\\ofrifox\\PycharmProjects\\pythonProject\\venv\\lib\\site-packages\\sklearn\\metrics\\_classification.py:1308: UndefinedMetricWarning: Precision is ill-defined and being set to 0.0 in labels with no predicted samples. Use `zero_division` parameter to control this behavior.\n",
      "  _warn_prf(average, modifier, msg_start, len(result))\n",
      "C:\\Users\\ofrifox\\PycharmProjects\\pythonProject\\venv\\lib\\site-packages\\sklearn\\metrics\\_classification.py:1308: UndefinedMetricWarning: Precision is ill-defined and being set to 0.0 in labels with no predicted samples. Use `zero_division` parameter to control this behavior.\n",
      "  _warn_prf(average, modifier, msg_start, len(result))\n",
      "C:\\Users\\ofrifox\\PycharmProjects\\pythonProject\\venv\\lib\\site-packages\\sklearn\\metrics\\_classification.py:1308: UndefinedMetricWarning: Precision is ill-defined and being set to 0.0 in labels with no predicted samples. Use `zero_division` parameter to control this behavior.\n",
      "  _warn_prf(average, modifier, msg_start, len(result))\n",
      "C:\\Users\\ofrifox\\PycharmProjects\\pythonProject\\venv\\lib\\site-packages\\sklearn\\metrics\\_classification.py:1308: UndefinedMetricWarning: Precision is ill-defined and being set to 0.0 in labels with no predicted samples. Use `zero_division` parameter to control this behavior.\n",
      "  _warn_prf(average, modifier, msg_start, len(result))\n",
      "C:\\Users\\ofrifox\\PycharmProjects\\pythonProject\\venv\\lib\\site-packages\\sklearn\\metrics\\_classification.py:1308: UndefinedMetricWarning: Precision is ill-defined and being set to 0.0 in labels with no predicted samples. Use `zero_division` parameter to control this behavior.\n",
      "  _warn_prf(average, modifier, msg_start, len(result))\n",
      "C:\\Users\\ofrifox\\PycharmProjects\\pythonProject\\venv\\lib\\site-packages\\sklearn\\metrics\\_classification.py:1308: UndefinedMetricWarning: Precision is ill-defined and being set to 0.0 in labels with no predicted samples. Use `zero_division` parameter to control this behavior.\n",
      "  _warn_prf(average, modifier, msg_start, len(result))\n",
      "C:\\Users\\ofrifox\\PycharmProjects\\pythonProject\\venv\\lib\\site-packages\\sklearn\\metrics\\_classification.py:1308: UndefinedMetricWarning: Precision is ill-defined and being set to 0.0 in labels with no predicted samples. Use `zero_division` parameter to control this behavior.\n",
      "  _warn_prf(average, modifier, msg_start, len(result))\n",
      "C:\\Users\\ofrifox\\PycharmProjects\\pythonProject\\venv\\lib\\site-packages\\sklearn\\metrics\\_classification.py:1308: UndefinedMetricWarning: Precision is ill-defined and being set to 0.0 in labels with no predicted samples. Use `zero_division` parameter to control this behavior.\n",
      "  _warn_prf(average, modifier, msg_start, len(result))\n",
      "C:\\Users\\ofrifox\\PycharmProjects\\pythonProject\\venv\\lib\\site-packages\\sklearn\\metrics\\_classification.py:1308: UndefinedMetricWarning: Precision is ill-defined and being set to 0.0 in labels with no predicted samples. Use `zero_division` parameter to control this behavior.\n",
      "  _warn_prf(average, modifier, msg_start, len(result))\n",
      "C:\\Users\\ofrifox\\PycharmProjects\\pythonProject\\venv\\lib\\site-packages\\sklearn\\metrics\\_classification.py:1308: UndefinedMetricWarning: Precision is ill-defined and being set to 0.0 in labels with no predicted samples. Use `zero_division` parameter to control this behavior.\n",
      "  _warn_prf(average, modifier, msg_start, len(result))\n",
      "C:\\Users\\ofrifox\\PycharmProjects\\pythonProject\\venv\\lib\\site-packages\\sklearn\\metrics\\_classification.py:1308: UndefinedMetricWarning: Precision is ill-defined and being set to 0.0 in labels with no predicted samples. Use `zero_division` parameter to control this behavior.\n",
      "  _warn_prf(average, modifier, msg_start, len(result))\n"
     ]
    },
    {
     "data": {
      "text/html": [
       "<div>\n",
       "<style scoped>\n",
       "    .dataframe tbody tr th:only-of-type {\n",
       "        vertical-align: middle;\n",
       "    }\n",
       "\n",
       "    .dataframe tbody tr th {\n",
       "        vertical-align: top;\n",
       "    }\n",
       "\n",
       "    .dataframe thead tr th {\n",
       "        text-align: left;\n",
       "    }\n",
       "</style>\n",
       "<table border=\"1\" class=\"dataframe\">\n",
       "  <thead>\n",
       "    <tr>\n",
       "      <th></th>\n",
       "      <th>Decision Tree</th>\n",
       "      <th>SVC</th>\n",
       "      <th>Artificial Neural Networks</th>\n",
       "    </tr>\n",
       "    <tr>\n",
       "      <th></th>\n",
       "      <th>0</th>\n",
       "      <th>0</th>\n",
       "      <th>0</th>\n",
       "    </tr>\n",
       "  </thead>\n",
       "  <tbody>\n",
       "    <tr>\n",
       "      <th>training score roc auc</th>\n",
       "      <td>0.725123</td>\n",
       "      <td>0.612912</td>\n",
       "      <td>0.746559</td>\n",
       "    </tr>\n",
       "    <tr>\n",
       "      <th>test score roc auc</th>\n",
       "      <td>0.722876</td>\n",
       "      <td>0.611043</td>\n",
       "      <td>0.735392</td>\n",
       "    </tr>\n",
       "    <tr>\n",
       "      <th>training score accuracy</th>\n",
       "      <td>0.798834</td>\n",
       "      <td>0.768234</td>\n",
       "      <td>0.797565</td>\n",
       "    </tr>\n",
       "    <tr>\n",
       "      <th>test score accuracy</th>\n",
       "      <td>0.798834</td>\n",
       "      <td>0.768233</td>\n",
       "      <td>0.793542</td>\n",
       "    </tr>\n",
       "    <tr>\n",
       "      <th>training score precision</th>\n",
       "      <td>0.715971</td>\n",
       "      <td>0.384117</td>\n",
       "      <td>0.715085</td>\n",
       "    </tr>\n",
       "    <tr>\n",
       "      <th>test_score_precision</th>\n",
       "      <td>0.716115</td>\n",
       "      <td>0.384117</td>\n",
       "      <td>0.707366</td>\n",
       "    </tr>\n",
       "    <tr>\n",
       "      <th>training_score_recall</th>\n",
       "      <td>0.669079</td>\n",
       "      <td>0.500000</td>\n",
       "      <td>0.657390</td>\n",
       "    </tr>\n",
       "    <tr>\n",
       "      <th>test_score_recall</th>\n",
       "      <td>0.669306</td>\n",
       "      <td>0.500000</td>\n",
       "      <td>0.651550</td>\n",
       "    </tr>\n",
       "    <tr>\n",
       "      <th>training_score_F1</th>\n",
       "      <td>0.685199</td>\n",
       "      <td>0.434464</td>\n",
       "      <td>0.674646</td>\n",
       "    </tr>\n",
       "    <tr>\n",
       "      <th>test_score_F1</th>\n",
       "      <td>0.685228</td>\n",
       "      <td>0.434444</td>\n",
       "      <td>0.668063</td>\n",
       "    </tr>\n",
       "  </tbody>\n",
       "</table>\n",
       "</div>"
      ],
      "text/plain": [
       "                         Decision Tree       SVC Artificial Neural Networks\n",
       "                                     0         0                          0\n",
       "training score roc auc        0.725123  0.612912                   0.746559\n",
       "test score roc auc            0.722876  0.611043                   0.735392\n",
       "training score accuracy       0.798834  0.768234                   0.797565\n",
       "test score accuracy           0.798834  0.768233                   0.793542\n",
       "training score precision      0.715971  0.384117                   0.715085\n",
       "test_score_precision          0.716115  0.384117                   0.707366\n",
       "training_score_recall         0.669079  0.500000                   0.657390\n",
       "test_score_recall             0.669306  0.500000                   0.651550\n",
       "training_score_F1             0.685199  0.434464                   0.674646\n",
       "test_score_F1                 0.685228  0.434444                   0.668063"
      ]
     },
     "execution_count": 31,
     "metadata": {},
     "output_type": "execute_result"
    }
   ],
   "source": [
    "Evaluation_score=pd.concat([evaluation_model(data, model_DT, 'Decision Tree'),evaluation_model(data, model_SVC, 'SVC'),evaluation_model(data, model_ANN, 'Artificial Neural Networks')], \n",
    "                           axis=1,keys=['Decision Tree','SVC','Artificial Neural Networks'])\n",
    "\n",
    "Evaluation_score.head(20)"
   ]
  },
  {
   "cell_type": "markdown",
   "metadata": {},
   "source": [
    "## Model improvement"
   ]
  },
  {
   "cell_type": "code",
   "execution_count": null,
   "metadata": {
    "pycharm": {
     "is_executing": true
    }
   },
   "outputs": [],
   "source": [
    "# Get initial data\n",
    "df = pd.read_csv(path)\n"
   ]
  },
  {
   "cell_type": "code",
   "execution_count": null,
   "metadata": {
    "pycharm": {
     "is_executing": true
    }
   },
   "outputs": [],
   "source": [
    "%%capture\n",
    "df = drop_nan(df)\n",
    "df = replace_values(df)\n",
    "df = fill_nan_values(df)\n",
    "df = extract_features(df)\n",
    "df = represent_data(df)\n",
    "df = df.drop(\n",
    "    columns=[\n",
    "        'city', 'enrollee_id', 'experience',\n",
    "        'training_hours', 'relevant_experience_years',\n",
    "        'Full time course', 'Has relevent experience',\n",
    "        'Female', 'Male', 'enrollment', 'major_discipline',\n",
    "            ])"
   ]
  },
  {
   "cell_type": "code",
   "execution_count": null,
   "metadata": {
    "pycharm": {
     "is_executing": true
    }
   },
   "outputs": [],
   "source": [
    "%%capture\n",
    "\n"
   ]
  },
  {
   "cell_type": "code",
   "execution_count": null,
   "metadata": {
    "pycharm": {
     "is_executing": true
    }
   },
   "outputs": [],
   "source": [
    "dt_model = DecisionTreeClassifier(max_depth=5, criterion='entropy', min_samples_leaf=100, min_impurity_decrease=0.0001)\n",
    "train_model_by_kfold(df, dt_model)"
   ]
  },
  {
   "cell_type": "code",
   "execution_count": null,
   "metadata": {
    "pycharm": {
     "is_executing": true
    }
   },
   "outputs": [],
   "source": []
  },
  {
   "cell_type": "code",
   "execution_count": null,
   "metadata": {
    "pycharm": {
     "is_executing": true
    }
   },
   "outputs": [],
   "source": [
    "ann_model = MLPClassifier(max_iter=100,hidden_layer_sizes=(800, 50, 10), activation='relu',n_iter_no_change= 15)\n",
    "train_model_by_kfold(df, ann_model)"
   ]
  },
  {
   "cell_type": "code",
   "execution_count": null,
   "metadata": {
    "pycharm": {
     "is_executing": true
    }
   },
   "outputs": [],
   "source": []
  }
 ],
 "metadata": {
  "kernelspec": {
   "display_name": "Python 3 (ipykernel)",
   "language": "python",
   "name": "python3"
  },
  "language_info": {
   "codemirror_mode": {
    "name": "ipython",
    "version": 3
   },
   "file_extension": ".py",
   "mimetype": "text/x-python",
   "name": "python",
   "nbconvert_exporter": "python",
   "pygments_lexer": "ipython3",
   "version": "3.9.6"
  }
 },
 "nbformat": 4,
 "nbformat_minor": 1
}