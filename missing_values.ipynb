{
 "cells": [
  {
   "cell_type": "code",
   "execution_count": 1,
   "metadata": {
    "pycharm": {
     "is_executing": true
    }
   },
   "outputs": [
    {
     "data": {
      "text/html": [
       "<div>\n",
       "<style scoped>\n",
       "    .dataframe tbody tr th:only-of-type {\n",
       "        vertical-align: middle;\n",
       "    }\n",
       "\n",
       "    .dataframe tbody tr th {\n",
       "        vertical-align: top;\n",
       "    }\n",
       "\n",
       "    .dataframe thead th {\n",
       "        text-align: right;\n",
       "    }\n",
       "</style>\n",
       "<table border=\"1\" class=\"dataframe\">\n",
       "  <thead>\n",
       "    <tr style=\"text-align: right;\">\n",
       "      <th></th>\n",
       "      <th>enrollee_id</th>\n",
       "      <th>city</th>\n",
       "      <th>city_development_index</th>\n",
       "      <th>gender</th>\n",
       "      <th>relevent_experience</th>\n",
       "      <th>enrolled_university</th>\n",
       "      <th>education_level</th>\n",
       "      <th>major_discipline</th>\n",
       "      <th>experience</th>\n",
       "      <th>company_size</th>\n",
       "      <th>company_type</th>\n",
       "      <th>last_new_job</th>\n",
       "      <th>training_hours</th>\n",
       "      <th>target</th>\n",
       "    </tr>\n",
       "  </thead>\n",
       "  <tbody>\n",
       "    <tr>\n",
       "      <th>0</th>\n",
       "      <td>13163</td>\n",
       "      <td>city_16</td>\n",
       "      <td>0.910</td>\n",
       "      <td>NaN</td>\n",
       "      <td>No relevent experience</td>\n",
       "      <td>no_enrollment</td>\n",
       "      <td>High School</td>\n",
       "      <td>NaN</td>\n",
       "      <td>2</td>\n",
       "      <td>NaN</td>\n",
       "      <td>NaN</td>\n",
       "      <td>never</td>\n",
       "      <td>16</td>\n",
       "      <td>1</td>\n",
       "    </tr>\n",
       "    <tr>\n",
       "      <th>1</th>\n",
       "      <td>9357</td>\n",
       "      <td>city_136</td>\n",
       "      <td>0.897</td>\n",
       "      <td>Male</td>\n",
       "      <td>Has relevent experience</td>\n",
       "      <td>no_enrollment</td>\n",
       "      <td>Masters</td>\n",
       "      <td>STEM</td>\n",
       "      <td>6</td>\n",
       "      <td>1000-4999</td>\n",
       "      <td>Pvt Ltd</td>\n",
       "      <td>1</td>\n",
       "      <td>262</td>\n",
       "      <td>0</td>\n",
       "    </tr>\n",
       "    <tr>\n",
       "      <th>2</th>\n",
       "      <td>604</td>\n",
       "      <td>city_16</td>\n",
       "      <td>0.910</td>\n",
       "      <td>Male</td>\n",
       "      <td>No relevent experience</td>\n",
       "      <td>NaN</td>\n",
       "      <td>NaN</td>\n",
       "      <td>NaN</td>\n",
       "      <td>3</td>\n",
       "      <td>NaN</td>\n",
       "      <td>NaN</td>\n",
       "      <td>never</td>\n",
       "      <td>24</td>\n",
       "      <td>0</td>\n",
       "    </tr>\n",
       "    <tr>\n",
       "      <th>3</th>\n",
       "      <td>19033</td>\n",
       "      <td>city_16</td>\n",
       "      <td>0.910</td>\n",
       "      <td>Male</td>\n",
       "      <td>No relevent experience</td>\n",
       "      <td>no_enrollment</td>\n",
       "      <td>High School</td>\n",
       "      <td>NaN</td>\n",
       "      <td>3</td>\n",
       "      <td>NaN</td>\n",
       "      <td>NaN</td>\n",
       "      <td>1</td>\n",
       "      <td>35</td>\n",
       "      <td>0</td>\n",
       "    </tr>\n",
       "    <tr>\n",
       "      <th>4</th>\n",
       "      <td>4825</td>\n",
       "      <td>city_145</td>\n",
       "      <td>0.555</td>\n",
       "      <td>Male</td>\n",
       "      <td>Has relevent experience</td>\n",
       "      <td>Full time course</td>\n",
       "      <td>Graduate</td>\n",
       "      <td>STEM</td>\n",
       "      <td>4</td>\n",
       "      <td>NaN</td>\n",
       "      <td>NaN</td>\n",
       "      <td>1</td>\n",
       "      <td>43</td>\n",
       "      <td>1</td>\n",
       "    </tr>\n",
       "  </tbody>\n",
       "</table>\n",
       "</div>"
      ],
      "text/plain": [
       "   enrollee_id      city  city_development_index gender      relevent_experience enrolled_university education_level major_discipline experience company_size company_type last_new_job  training_hours  target\n",
       "0        13163   city_16                   0.910    NaN   No relevent experience       no_enrollment     High School              NaN          2          NaN          NaN        never              16       1\n",
       "1         9357  city_136                   0.897   Male  Has relevent experience       no_enrollment         Masters             STEM          6    1000-4999      Pvt Ltd            1             262       0\n",
       "2          604   city_16                   0.910   Male   No relevent experience                 NaN             NaN              NaN          3          NaN          NaN        never              24       0\n",
       "3        19033   city_16                   0.910   Male   No relevent experience       no_enrollment     High School              NaN          3          NaN          NaN            1              35       0\n",
       "4         4825  city_145                   0.555   Male  Has relevent experience    Full time course        Graduate             STEM          4          NaN          NaN            1              43       1"
      ]
     },
     "execution_count": 1,
     "metadata": {},
     "output_type": "execute_result"
    }
   ],
   "source": [
    "import pandas as pd\n",
    "import numpy as np\n",
    "import seaborn as sns\n",
    "import matplotlib.pyplot as plt\n",
    "pd.set_option('display.max_rows', 500)\n",
    "pd.set_option('display.max_columns', 500)\n",
    "pd.set_option('display.width', 1000)\n",
    "\n",
    "path = '/Users/barganor/Downloads/XY_train (1).csv'\n",
    "\n",
    "data = pd.read_csv(path)\n",
    "data.head()"
   ]
  },
  {
   "cell_type": "code",
   "execution_count": 2,
   "metadata": {
    "pycharm": {
     "name": "#%%\n"
    }
   },
   "outputs": [
    {
     "data": {
      "text/plain": [
       "enrollee_id                  0\n",
       "city                         0\n",
       "city_development_index       0\n",
       "gender                    3639\n",
       "relevent_experience          0\n",
       "enrolled_university        311\n",
       "education_level            370\n",
       "major_discipline          2237\n",
       "experience                  48\n",
       "company_size              4779\n",
       "company_type              4943\n",
       "last_new_job               332\n",
       "training_hours               0\n",
       "target                       0\n",
       "dtype: int64"
      ]
     },
     "execution_count": 2,
     "metadata": {},
     "output_type": "execute_result"
    }
   ],
   "source": [
    "data.isna().sum()"
   ]
  },
  {
   "cell_type": "code",
   "execution_count": 3,
   "metadata": {},
   "outputs": [],
   "source": [
    "processed_data = data.copy()\n",
    "# Transform experience to floats and fill nan with the median.\n",
    "replacement_dct = {'>20':'25','<1':'0'}\n",
    "processed_data['experience'] = processed_data['experience'].replace(replacement_dct).astype('float64')\n",
    "\n",
    "# Calculate median\n",
    "exp_median = np.median(processed_data['experience'].dropna().values)\n",
    "\n",
    "# Change nan values to calculated median\n",
    "processed_data['experience'] = processed_data['experience'].fillna(exp_median)"
   ]
  },
  {
   "cell_type": "code",
   "execution_count": 4,
   "metadata": {},
   "outputs": [
    {
     "data": {
      "text/plain": [
       "enrollee_id                  0\n",
       "city                         0\n",
       "city_development_index       0\n",
       "gender                    2278\n",
       "relevent_experience          0\n",
       "enrolled_university        106\n",
       "education_level             56\n",
       "major_discipline           845\n",
       "experience                   0\n",
       "company_size              2629\n",
       "company_type              2773\n",
       "last_new_job               117\n",
       "training_hours               0\n",
       "target                       0\n",
       "dtype: int64"
      ]
     },
     "execution_count": 4,
     "metadata": {},
     "output_type": "execute_result"
    }
   ],
   "source": [
    "processed_data = processed_data.dropna(thresh=12, axis=0)\n",
    "processed_data.isna().sum()"
   ]
  },
  {
   "cell_type": "code",
   "execution_count": 5,
   "metadata": {},
   "outputs": [
    {
     "name": "stdout",
     "output_type": "stream",
     "text": [
      "Number Of rows dropped: 2280\n",
      "Number Of nan values dropped: 7855\n"
     ]
    }
   ],
   "source": [
    "print( 'Number Of rows dropped: ' + str(data.shape[0] - processed_data.shape[0]))\n",
    "print( 'Number Of nan values dropped: ' + str(sum((data.isna().sum() - processed_data.isna().sum()).tolist())))"
   ]
  },
  {
   "cell_type": "code",
   "execution_count": 6,
   "metadata": {},
   "outputs": [],
   "source": [
    "def fill_nan_with_probability(df, col_name):\n",
    "    filled_df = df.copy()\n",
    "    no_nan_data = filled_df.dropna(subset=[col_name])\n",
    "    all_nan_data = filled_df[col_name].isna()\n",
    "    prob = no_nan_data[col_name].value_counts(normalize=True)\n",
    "    filled_df.loc[all_nan_data, col_name] = np.random.choice(prob.index, size=len(df[all_nan_data]), p=prob.values)\n",
    "\n",
    "    f, axes = plt.subplots(1, 2)\n",
    "    sns.boxplot(x='target', y=col_name, data=no_nan_data, ax=axes[0]).set_title('Before Inserting')\n",
    "    sns.boxplot(x='target', y=col_name, data=filled_df, ax=axes[1]).set_title('After Inserting')\n",
    "    plt.show()\n",
    "\n",
    "    return filled_df\n",
    "\n",
    "def replace_by_dict(df, col_name):\n",
    "    if col_name == 'company_size':\n",
    "        replacement_dict = {\n",
    "            '50-99': 3,\n",
    "            '100-500': 4,\n",
    "            '10000+': 8,\n",
    "            'Oct-49': 2,\n",
    "            '1000-4999': 6,\n",
    "            '<10': 1,\n",
    "            '500-999': 5,\n",
    "            '5000-9999': 7\n",
    "        }\n",
    "    elif col_name == 'last_new_job':\n",
    "        replacement_dict = {\n",
    "            '1': 1,\n",
    "            '>4': 5,\n",
    "            '2': 2,\n",
    "            'never': 0,\n",
    "            '4': 4,\n",
    "            '3': 3\n",
    "        }\n",
    "    \n",
    "    elif col_name == 'major_discipline':\n",
    "        replacement_dict = {\n",
    "            'STEM':3,\n",
    "            'Humanities':1,\n",
    "            'Other':2,\n",
    "            'Business Degree':6,\n",
    "            'Arts':4,\n",
    "            'No Major':5\n",
    "        }\n",
    "    else:\n",
    "        replacement_dict = {}\n",
    "\n",
    "    df[col_name] = df[col_name].replace(replacement_dict)\n",
    "    return df\n",
    "\n",
    "def fill_nan_with_max_appear(df, col_name):\n",
    "    filled_df = df.copy()\n",
    "    max_appear = df['education_level'].value_counts().idxmax()\n",
    "\n",
    "    \n",
    "    return filled_df[col_name].fillna(max_appear)\n"
   ]
  },
  {
   "cell_type": "code",
   "execution_count": 7,
   "metadata": {},
   "outputs": [],
   "source": [
    "processed_data = replace_by_dict(processed_data, 'company_size')\n",
    "processed_data = replace_by_dict(processed_data, 'last_new_job')\n",
    "processed_data = replace_by_dict(processed_data, 'major_discipline')"
   ]
  },
  {
   "cell_type": "code",
   "execution_count": 8,
   "metadata": {},
   "outputs": [
    {
     "data": {
      "text/plain": [
       "3.0    2430\n",
       "4.0    2023\n",
       "8.0    1605\n",
       "2.0    1121\n",
       "6.0    1063\n",
       "1.0    1027\n",
       "5.0     694\n",
       "7.0     454\n",
       "Name: company_size, dtype: int64"
      ]
     },
     "execution_count": 8,
     "metadata": {},
     "output_type": "execute_result"
    }
   ],
   "source": [
    "processed_data['company_size'].value_counts()"
   ]
  },
  {
   "cell_type": "code",
   "execution_count": 9,
   "metadata": {},
   "outputs": [
    {
     "data": {
      "image/png": "[encoded data removed]",
      "text/plain": [
       "<Figure size 432x288 with 2 Axes>"
      ]
     },
     "metadata": {
      "needs_background": "light"
     },
     "output_type": "display_data"
    }
   ],
   "source": [
    "processed_data = fill_nan_with_probability(processed_data, 'company_size')"
   ]
  },
  {
   "cell_type": "code",
   "execution_count": 10,
   "metadata": {},
   "outputs": [
    {
     "data": {
      "image/png": "[encoded data removed]",
      "text/plain": [
       "<Figure size 432x288 with 2 Axes>"
      ]
     },
     "metadata": {
      "needs_background": "light"
     },
     "output_type": "display_data"
    }
   ],
   "source": [
    "processed_data = fill_nan_with_probability(processed_data, 'last_new_job')"
   ]
  },
  {
   "cell_type": "code",
   "execution_count": 11,
   "metadata": {},
   "outputs": [
    {
     "data": {
      "image/png": "[encoded data removed]",
      "text/plain": [
       "<Figure size 432x288 with 2 Axes>"
      ]
     },
     "metadata": {
      "needs_background": "light"
     },
     "output_type": "display_data"
    }
   ],
   "source": [
    "processed_data = fill_nan_with_probability(processed_data, 'major_discipline')"
   ]
  },
  {
   "cell_type": "code",
   "execution_count": 12,
   "metadata": {},
   "outputs": [],
   "source": [
    "processed_data['education_level'] = fill_nan_with_max_appear(processed_data, 'education_level')"
   ]
  },
  {
   "cell_type": "code",
   "execution_count": 13,
   "metadata": {},
   "outputs": [
    {
     "data": {
      "text/plain": [
       "enrollee_id                  0\n",
       "city                         0\n",
       "city_development_index       0\n",
       "gender                    2278\n",
       "relevent_experience          0\n",
       "enrolled_university        106\n",
       "education_level              0\n",
       "major_discipline             0\n",
       "experience                   0\n",
       "company_size                 0\n",
       "company_type              2773\n",
       "last_new_job                 0\n",
       "training_hours               0\n",
       "target                       0\n",
       "dtype: int64"
      ]
     },
     "execution_count": 13,
     "metadata": {},
     "output_type": "execute_result"
    }
   ],
   "source": [
    "processed_data.isna().sum()"
   ]
  },
  {
   "cell_type": "code",
   "execution_count": null,
   "metadata": {},
   "outputs": [],
   "source": []
  },
  {
   "cell_type": "code",
   "execution_count": null,
   "metadata": {},
   "outputs": [],
   "source": []
  },
  {
   "cell_type": "code",
   "execution_count": null,
   "metadata": {},
   "outputs": [],
   "source": []
  },
  {
   "cell_type": "code",
   "execution_count": null,
   "metadata": {},
   "outputs": [],
   "source": []
  },
  {
   "cell_type": "code",
   "execution_count": null,
   "metadata": {},
   "outputs": [],
   "source": []
  }
 ],
 "metadata": {
  "kernelspec": {
   "display_name": "Python 3 (ipykernel)",
   "language": "python",
   "name": "python3"
  },
  "language_info": {
   "codemirror_mode": {
    "name": "ipython",
    "version": 3
   },
   "file_extension": ".py",
   "mimetype": "text/x-python",
   "name": "python",
   "nbconvert_exporter": "python",
   "pygments_lexer": "ipython3",
   "version": "3.9.1"
  }
 },
 "nbformat": 4,
 "nbformat_minor": 1
}